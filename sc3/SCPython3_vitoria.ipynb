{
 "cells": [
  {
   "cell_type": "markdown",
   "metadata": {
    "id": "aYOqwiQEB7bC"
   },
   "source": [
    "<h3> SciPython/Practical_classes_3"
   ]
  },
  {
   "cell_type": "markdown",
   "metadata": {
    "id": "bVxEI2fnB7bG"
   },
   "source": [
    "<h4> Linear regression"
   ]
  },
  {
   "cell_type": "code",
   "execution_count": 1,
   "metadata": {
    "id": "w7igjRBtB7bH"
   },
   "outputs": [],
   "source": [
    "import numpy as np\n",
    "import matplotlib.pyplot as plt"
   ]
  },
  {
   "cell_type": "code",
   "execution_count": 2,
   "metadata": {
    "id": "Q_IZ6T4VB7bJ"
   },
   "outputs": [],
   "source": [
    "import pandas as pd\n",
    "import numpy as np\n",
    "\n",
    "data_url = \"http://lib.stat.cmu.edu/datasets/boston\"\n",
    "raw_df = pd.read_csv(data_url, sep=\"\\s+\", skiprows=22, header=None)\n",
    "data = np.hstack([raw_df.values[::2, :], raw_df.values[1::2, :2]])\n",
    "target = raw_df.values[1::2, 2]"
   ]
  },
  {
   "cell_type": "code",
   "execution_count": 3,
   "metadata": {
    "colab": {
     "base_uri": "https://localhost:8080/"
    },
    "id": "DF3VZjuXFgBK",
    "outputId": "55622505-08e4-4147-c7af-7e9d1b617c3c"
   },
   "outputs": [
    {
     "data": {
      "text/plain": [
       "array([24. , 21.6, 34.7, 33.4, 36.2, 28.7, 22.9, 27.1, 16.5, 18.9, 15. ,\n",
       "       18.9, 21.7, 20.4, 18.2, 19.9, 23.1, 17.5, 20.2, 18.2, 13.6, 19.6,\n",
       "       15.2, 14.5, 15.6, 13.9, 16.6, 14.8, 18.4, 21. , 12.7, 14.5, 13.2,\n",
       "       13.1, 13.5, 18.9, 20. , 21. , 24.7, 30.8, 34.9, 26.6, 25.3, 24.7,\n",
       "       21.2, 19.3, 20. , 16.6, 14.4, 19.4, 19.7, 20.5, 25. , 23.4, 18.9,\n",
       "       35.4, 24.7, 31.6, 23.3, 19.6, 18.7, 16. , 22.2, 25. , 33. , 23.5,\n",
       "       19.4, 22. , 17.4, 20.9, 24.2, 21.7, 22.8, 23.4, 24.1, 21.4, 20. ,\n",
       "       20.8, 21.2, 20.3, 28. , 23.9, 24.8, 22.9, 23.9, 26.6, 22.5, 22.2,\n",
       "       23.6, 28.7, 22.6, 22. , 22.9, 25. , 20.6, 28.4, 21.4, 38.7, 43.8,\n",
       "       33.2, 27.5, 26.5, 18.6, 19.3, 20.1, 19.5, 19.5, 20.4, 19.8, 19.4,\n",
       "       21.7, 22.8, 18.8, 18.7, 18.5, 18.3, 21.2, 19.2, 20.4, 19.3, 22. ,\n",
       "       20.3, 20.5, 17.3, 18.8, 21.4, 15.7, 16.2, 18. , 14.3, 19.2, 19.6,\n",
       "       23. , 18.4, 15.6, 18.1, 17.4, 17.1, 13.3, 17.8, 14. , 14.4, 13.4,\n",
       "       15.6, 11.8, 13.8, 15.6, 14.6, 17.8, 15.4, 21.5, 19.6, 15.3, 19.4,\n",
       "       17. , 15.6, 13.1, 41.3, 24.3, 23.3, 27. , 50. , 50. , 50. , 22.7,\n",
       "       25. , 50. , 23.8, 23.8, 22.3, 17.4, 19.1, 23.1, 23.6, 22.6, 29.4,\n",
       "       23.2, 24.6, 29.9, 37.2, 39.8, 36.2, 37.9, 32.5, 26.4, 29.6, 50. ,\n",
       "       32. , 29.8, 34.9, 37. , 30.5, 36.4, 31.1, 29.1, 50. , 33.3, 30.3,\n",
       "       34.6, 34.9, 32.9, 24.1, 42.3, 48.5, 50. , 22.6, 24.4, 22.5, 24.4,\n",
       "       20. , 21.7, 19.3, 22.4, 28.1, 23.7, 25. , 23.3, 28.7, 21.5, 23. ,\n",
       "       26.7, 21.7, 27.5, 30.1, 44.8, 50. , 37.6, 31.6, 46.7, 31.5, 24.3,\n",
       "       31.7, 41.7, 48.3, 29. , 24. , 25.1, 31.5, 23.7, 23.3, 22. , 20.1,\n",
       "       22.2, 23.7, 17.6, 18.5, 24.3, 20.5, 24.5, 26.2, 24.4, 24.8, 29.6,\n",
       "       42.8, 21.9, 20.9, 44. , 50. , 36. , 30.1, 33.8, 43.1, 48.8, 31. ,\n",
       "       36.5, 22.8, 30.7, 50. , 43.5, 20.7, 21.1, 25.2, 24.4, 35.2, 32.4,\n",
       "       32. , 33.2, 33.1, 29.1, 35.1, 45.4, 35.4, 46. , 50. , 32.2, 22. ,\n",
       "       20.1, 23.2, 22.3, 24.8, 28.5, 37.3, 27.9, 23.9, 21.7, 28.6, 27.1,\n",
       "       20.3, 22.5, 29. , 24.8, 22. , 26.4, 33.1, 36.1, 28.4, 33.4, 28.2,\n",
       "       22.8, 20.3, 16.1, 22.1, 19.4, 21.6, 23.8, 16.2, 17.8, 19.8, 23.1,\n",
       "       21. , 23.8, 23.1, 20.4, 18.5, 25. , 24.6, 23. , 22.2, 19.3, 22.6,\n",
       "       19.8, 17.1, 19.4, 22.2, 20.7, 21.1, 19.5, 18.5, 20.6, 19. , 18.7,\n",
       "       32.7, 16.5, 23.9, 31.2, 17.5, 17.2, 23.1, 24.5, 26.6, 22.9, 24.1,\n",
       "       18.6, 30.1, 18.2, 20.6, 17.8, 21.7, 22.7, 22.6, 25. , 19.9, 20.8,\n",
       "       16.8, 21.9, 27.5, 21.9, 23.1, 50. , 50. , 50. , 50. , 50. , 13.8,\n",
       "       13.8, 15. , 13.9, 13.3, 13.1, 10.2, 10.4, 10.9, 11.3, 12.3,  8.8,\n",
       "        7.2, 10.5,  7.4, 10.2, 11.5, 15.1, 23.2,  9.7, 13.8, 12.7, 13.1,\n",
       "       12.5,  8.5,  5. ,  6.3,  5.6,  7.2, 12.1,  8.3,  8.5,  5. , 11.9,\n",
       "       27.9, 17.2, 27.5, 15. , 17.2, 17.9, 16.3,  7. ,  7.2,  7.5, 10.4,\n",
       "        8.8,  8.4, 16.7, 14.2, 20.8, 13.4, 11.7,  8.3, 10.2, 10.9, 11. ,\n",
       "        9.5, 14.5, 14.1, 16.1, 14.3, 11.7, 13.4,  9.6,  8.7,  8.4, 12.8,\n",
       "       10.5, 17.1, 18.4, 15.4, 10.8, 11.8, 14.9, 12.6, 14.1, 13. , 13.4,\n",
       "       15.2, 16.1, 17.8, 14.9, 14.1, 12.7, 13.5, 14.9, 20. , 16.4, 17.7,\n",
       "       19.5, 20.2, 21.4, 19.9, 19. , 19.1, 19.1, 20.1, 19.9, 19.6, 23.2,\n",
       "       29.8, 13.8, 13.3, 16.7, 12. , 14.6, 21.4, 23. , 23.7, 25. , 21.8,\n",
       "       20.6, 21.2, 19.1, 20.6, 15.2,  7. ,  8.1, 13.6, 20.1, 21.8, 24.5,\n",
       "       23.1, 19.7, 18.3, 21.2, 17.5, 16.8, 22.4, 20.6, 23.9, 22. , 11.9])"
      ]
     },
     "execution_count": 3,
     "metadata": {},
     "output_type": "execute_result"
    }
   ],
   "source": [
    "target"
   ]
  },
  {
   "cell_type": "code",
   "execution_count": 4,
   "metadata": {
    "colab": {
     "base_uri": "https://localhost:8080/"
    },
    "id": "5Hz7p7rADwFy",
    "outputId": "08dff829-1e3a-4bff-a656-30683f12556b"
   },
   "outputs": [
    {
     "data": {
      "text/plain": [
       "array([[6.3200e-03, 1.8000e+01, 2.3100e+00, ..., 1.5300e+01, 3.9690e+02,\n",
       "        4.9800e+00],\n",
       "       [2.7310e-02, 0.0000e+00, 7.0700e+00, ..., 1.7800e+01, 3.9690e+02,\n",
       "        9.1400e+00],\n",
       "       [2.7290e-02, 0.0000e+00, 7.0700e+00, ..., 1.7800e+01, 3.9283e+02,\n",
       "        4.0300e+00],\n",
       "       ...,\n",
       "       [6.0760e-02, 0.0000e+00, 1.1930e+01, ..., 2.1000e+01, 3.9690e+02,\n",
       "        5.6400e+00],\n",
       "       [1.0959e-01, 0.0000e+00, 1.1930e+01, ..., 2.1000e+01, 3.9345e+02,\n",
       "        6.4800e+00],\n",
       "       [4.7410e-02, 0.0000e+00, 1.1930e+01, ..., 2.1000e+01, 3.9690e+02,\n",
       "        7.8800e+00]])"
      ]
     },
     "execution_count": 4,
     "metadata": {},
     "output_type": "execute_result"
    }
   ],
   "source": [
    "data"
   ]
  },
  {
   "cell_type": "code",
   "execution_count": 5,
   "metadata": {
    "id": "gRL1Oqf4B7bM"
   },
   "outputs": [],
   "source": [
    "d2 = data[:, [2,5]] #extract 2 features: INDUS, RM\n",
    "#target = boston_data['target']"
   ]
  },
  {
   "cell_type": "code",
   "execution_count": 6,
   "metadata": {
    "colab": {
     "base_uri": "https://localhost:8080/"
    },
    "id": "jAvUEKvpF2D5",
    "outputId": "ec7bb035-421f-4dc9-c510-ad8aebb40119"
   },
   "outputs": [
    {
     "data": {
      "text/plain": [
       "array([[ 2.31 ,  6.575],\n",
       "       [ 7.07 ,  6.421],\n",
       "       [ 7.07 ,  7.185],\n",
       "       ...,\n",
       "       [11.93 ,  6.976],\n",
       "       [11.93 ,  6.794],\n",
       "       [11.93 ,  6.03 ]])"
      ]
     },
     "execution_count": 6,
     "metadata": {},
     "output_type": "execute_result"
    }
   ],
   "source": [
    "d2"
   ]
  },
  {
   "cell_type": "code",
   "execution_count": 7,
   "metadata": {
    "colab": {
     "base_uri": "https://localhost:8080/",
     "height": 927
    },
    "id": "Ts68_4yLB7bO",
    "outputId": "e8c71ca6-2531-46b1-fe30-6444addd686d"
   },
   "outputs": [
    {
     "data": {
      "image/png": "[encoded data removed]",
      "text/plain": [
       "<Figure size 640x480 with 1 Axes>"
      ]
     },
     "metadata": {},
     "output_type": "display_data"
    },
    {
     "data": {
      "image/png": "[encoded data removed]",
      "text/plain": [
       "<Figure size 640x480 with 1 Axes>"
      ]
     },
     "metadata": {},
     "output_type": "display_data"
    }
   ],
   "source": [
    "plt.title('Industrialness vs Med House Price')\n",
    "plt.scatter(d2[:, 0], target)\n",
    "plt.xlabel('Industrialness')\n",
    "plt.ylabel('Med House Price')\n",
    "plt.show()\n",
    "\n",
    "plt.title('Avg Num Rooms vs Med House Price')\n",
    "plt.scatter(d2[:, 1], target)\n",
    "plt.xlabel('Avg Num Rooms')\n",
    "plt.ylabel('Med House Price')\n",
    "plt.show()"
   ]
  },
  {
   "cell_type": "markdown",
   "metadata": {
    "id": "gszccXqnB7bP"
   },
   "source": [
    "The loss function measures the average difference between the prediction $y$ and the actual value $t$. There are many functions of this type, one of the most popular is:\n",
    "\n",
    "<center>\n",
    "$LF(y,t) = \\frac{1}{2N}\\sum_{i}(y^{i}-t^{i})^2$\n",
    "    \n",
    " \n",
    "\n",
    "For linear regression of 2 variables:    \n",
    "<center>\n",
    "$LF(y,t) = \\frac{1}{2N}\\sum_{i}(w_1x_{1}^{i}+w_2x_{2}^{i}+w_0-t^{i})^2$"
   ]
  },
  {
   "cell_type": "code",
   "execution_count": 8,
   "metadata": {
    "id": "v1RffB4aB7bR"
   },
   "outputs": [],
   "source": [
    "# exercise 1\n",
    "\n",
    "def loss_function(w1, w2, w0, X, t):\n",
    "    n_obs = len(X)\n",
    "    sum = 0\n",
    "\n",
    "    for i in range(n_obs):  \n",
    "        sum += (w1*X[i][0] + w2*X[i][1] + w0 - t[i])**2\n",
    "    lf = 1/(2*n_obs) * sum\n",
    "\n",
    "    return lf\n"
   ]
  },
  {
   "cell_type": "code",
   "execution_count": 9,
   "metadata": {
    "colab": {
     "base_uri": "https://localhost:8080/"
    },
    "id": "T_296LUFG_zC",
    "outputId": "0486ca11-4c37-440a-e7c2-f0832ed37802"
   },
   "outputs": [
    {
     "data": {
      "text/plain": [
       "2088.9192750474317"
      ]
     },
     "execution_count": 9,
     "metadata": {},
     "output_type": "execute_result"
    }
   ],
   "source": [
    "loss_function(3, 8, -1, d2, target)"
   ]
  },
  {
   "cell_type": "code",
   "execution_count": 10,
   "metadata": {
    "colab": {
     "base_uri": "https://localhost:8080/"
    },
    "id": "ai57xKyoB7bW",
    "outputId": "6cbfddb6-8034-4e8b-84ca-1eecbe7e3cf4"
   },
   "outputs": [
    {
     "data": {
      "text/plain": [
       "20.61716585276679"
      ]
     },
     "execution_count": 10,
     "metadata": {},
     "output_type": "execute_result"
    }
   ],
   "source": [
    "#example2\n",
    "loss_function(-0.5, 8, -23, d2, target) #better"
   ]
  },
  {
   "cell_type": "markdown",
   "metadata": {
    "id": "ggpwP2YUB7bX"
   },
   "source": [
    "<h4> Exercise1: Complete the content of the above function."
   ]
  },
  {
   "cell_type": "markdown",
   "metadata": {
    "id": "IQoPfW3vB7bZ"
   },
   "source": [
    "Usually, at the beginning we do not have information what the parameters of the model should be; we can start with random values. So the question arises how to update them so that the loss function values are getting smaller and smaller? One of the most popular approaches (and the basis for other algorithms) is based on the Gradient Descent method. We calculate the derivative of the cost function on the considered parameters and then update them according to:\n",
    "\n",
    "<center> \n",
    "$w_{new} = w_{old} - \\alpha \\cdot \\frac{d LF}{dw}$\n",
    "\n",
    "$LF(y,t) = \\frac{1}{2N}\\sum_{i}(w_1x_{1}^{i}+w_2x_{2}^{i}+w_0-t^{i})^2$\n",
    "\n",
    "$\\frac{d LF}{dw} = \\frac{1}{N}\\sum_{i}(w_1x_{1}^{i}+w_2x_{2}^{i}+w_0-t^{i})$\n",
    "\n",
    "...."
   ]
  },
  {
   "cell_type": "code",
   "execution_count": 11,
   "metadata": {
    "id": "6K8MkKYFB7bZ"
   },
   "outputs": [],
   "source": [
    "def update_weights(w1, w2, w0, X, t, alpha):\n",
    "\n",
    "    # N\n",
    "    n_obs = len(X)\n",
    "\n",
    "    # loss function derivative for w1\n",
    "    sum = 0\n",
    "    for i in range(n_obs):  \n",
    "        sum += (w1*X[i][0] + w2*X[i][1] + w0 - t[i])*X[i][0]  \n",
    "    ln_d_w1 = 1/n_obs*sum\n",
    "    w1_new = w1 - alpha*ln_d_w1\n",
    "\n",
    "    # loss function derivative for w2\n",
    "    sum = 0\n",
    "    for i in range(n_obs):  \n",
    "        sum += (w1*X[i][0] + w2*X[i][1] + w0 - t[i])*X[i][1] \n",
    "    ln_d_w2 = 1/n_obs*sum\n",
    "    w2_new = w2 - alpha*ln_d_w2\n",
    "\n",
    "    # loss function derivative for w0\n",
    "    sum = 0\n",
    "    for i in range(n_obs):  \n",
    "        sum += (w1*X[i][0] + w2*X[i][1] + w0 - t[i])\n",
    "    ln_d_w0 = 1/n_obs*sum\n",
    "    w0_new = w0 - alpha*ln_d_w0\n",
    "\n",
    "    return w1_new, w2_new, w0_new"
   ]
  },
  {
   "cell_type": "code",
   "execution_count": 12,
   "metadata": {
    "colab": {
     "base_uri": "https://localhost:8080/"
    },
    "id": "BCfCFgxfN2zy",
    "outputId": "1c29a715-654d-4c1d-fe4d-59057015efbe"
   },
   "outputs": [
    {
     "data": {
      "text/plain": [
       "(2.1737704910276685, 7.628145982577075, -1.060154604743083)"
      ]
     },
     "execution_count": 12,
     "metadata": {},
     "output_type": "execute_result"
    }
   ],
   "source": [
    "update_weights(3, 8, -1, d2, target, 0.001)"
   ]
  },
  {
   "cell_type": "code",
   "execution_count": 13,
   "metadata": {
    "colab": {
     "base_uri": "https://localhost:8080/"
    },
    "id": "JdZfy9nXB7ba",
    "outputId": "dc488a76-634d-41ba-e5f2-477dc2587287"
   },
   "outputs": [
    {
     "data": {
      "text/plain": [
       "(2.1737704910276685, 7.628145982577075, -1.060154604743083)"
      ]
     },
     "execution_count": 13,
     "metadata": {},
     "output_type": "execute_result"
    }
   ],
   "source": [
    "#example \n",
    "update_weights(3, 8, -1, d2, target, 0.001)"
   ]
  },
  {
   "cell_type": "markdown",
   "metadata": {
    "id": "A1VcRhpFB7bc"
   },
   "source": [
    "<h4> Exercise2: Complete the content of the above function."
   ]
  },
  {
   "cell_type": "markdown",
   "metadata": {
    "id": "PGupw06eB7bc"
   },
   "source": [
    "<h4> Exercise3: The goal is to build a linear regression model predicting $target$ based on $d2$. Start with the initial parameters 1, 1 and 1. Assuming $\\alpha=0.001$, do 1000 updates of these parameters based on the gradient method. Draw the dependence of the cost function on the number of iterations. Perform analogous calculations for $\\alpha=0.01$ and $\\alpha=0.00001$. Comment your results"
   ]
  },
  {
   "cell_type": "code",
   "execution_count": 49,
   "metadata": {
    "id": "HsEDxTtxnrcx"
   },
   "outputs": [],
   "source": [
    "its = list(range(1000))"
   ]
  },
  {
   "cell_type": "code",
   "execution_count": 45,
   "metadata": {
    "colab": {
     "base_uri": "https://localhost:8080/"
    },
    "id": "ZLNtcKB0M9Xa",
    "outputId": "06c88f0d-d88a-4cf8-851d-0dd3677713bc"
   },
   "outputs": [
    {
     "name": "stderr",
     "output_type": "stream",
     "text": [
      "<ipython-input-8-d2f20addee64>:7: RuntimeWarning: overflow encountered in double_scalars\n",
      "  sum += (w1*X[i][0] + w2*X[i][1] + w0 - t[i])**2\n",
      "<ipython-input-11-bbbb8c3de09b>:9: RuntimeWarning: overflow encountered in double_scalars\n",
      "  sum += (w1*X[i][0] + w2*X[i][1] + w0 - t[i])*X[i][0]\n",
      "<ipython-input-11-bbbb8c3de09b>:11: RuntimeWarning: invalid value encountered in double_scalars\n",
      "  w1_new = w1 - alpha*ln_d_w1\n"
     ]
    },
    {
     "name": "stdout",
     "output_type": "stream",
     "text": [
      "nan nan nan\n"
     ]
    }
   ],
   "source": [
    "# exercise 3 - α=0.1\n",
    "\n",
    "w0_old = w1_old = w2_old = w1 = w2 = w0 = 1\n",
    "\n",
    "alpha = 0.1\n",
    "\n",
    "iterations = 1000\n",
    "\n",
    "for i in range(iterations):\n",
    "    w1, w2, w0 = update_weights(w1, w2, w0, d2, target, alpha)\n",
    "\n",
    "print(w1, w2, w0)"
   ]
  },
  {
   "cell_type": "code",
   "execution_count": 53,
   "metadata": {
    "colab": {
     "base_uri": "https://localhost:8080/"
    },
    "id": "pCzhMw4UM-V-",
    "outputId": "3a6b3f55-3b1b-4d68-f46e-4724ccf06d65"
   },
   "outputs": [
    {
     "name": "stdout",
     "output_type": "stream",
     "text": [
      "189.23801606437337 85.4860327498343 12.549821709958701\n"
     ]
    }
   ],
   "source": [
    "# exercise 3 - α=0.01\n",
    "\n",
    "lf_values = []\n",
    "\n",
    "w0_old = w1_old = w2_old = w1 = w2 = w0 = 1\n",
    "\n",
    "alpha = 0.01\n",
    "\n",
    "iterations = 1000\n",
    "\n",
    "for i in range(iterations):\n",
    "    w1, w2, w0 = update_weights(w1, w2, w0, d2, target, alpha)\n",
    "    lf = loss_function(w1, w2, w0, d2, target)\n",
    "    lf_values.append(lf)\n",
    "\n",
    "print(w1, w2, w0)"
   ]
  },
  {
   "cell_type": "code",
   "execution_count": 54,
   "metadata": {
    "colab": {
     "base_uri": "https://localhost:8080/",
     "height": 462
    },
    "id": "Q3IF6LxymrfG",
    "outputId": "0b08eca9-8d73-4596-c735-2453acf7c8d2"
   },
   "outputs": [
    {
     "data": {
      "text/plain": [
       "[<matplotlib.lines.Line2D at 0x7f5abe2d0e80>]"
      ]
     },
     "execution_count": 54,
     "metadata": {},
     "output_type": "execute_result"
    },
    {
     "data": {
      "image/png": "[encoded data removed]",
      "text/plain": [
       "<Figure size 640x480 with 1 Axes>"
      ]
     },
     "metadata": {},
     "output_type": "display_data"
    }
   ],
   "source": [
    "plt.plot(its, lf_values)"
   ]
  },
  {
   "cell_type": "code",
   "execution_count": 55,
   "metadata": {
    "colab": {
     "base_uri": "https://localhost:8080/"
    },
    "id": "x6SJt8nm7B0i",
    "outputId": "1a07874a-f397-4ceb-8ffe-725973179fe1"
   },
   "outputs": [
    {
     "name": "stdout",
     "output_type": "stream",
     "text": [
      "-0.5240516597773193 4.3480921568559605 1.2535642605913597\n"
     ]
    }
   ],
   "source": [
    "# exercise 3 - α=0.001\n",
    "\n",
    "lf_values = []\n",
    "\n",
    "w0_old = w1_old = w2_old = w1 = w2 = w0 = 1\n",
    "\n",
    "alpha = 0.001\n",
    "\n",
    "iterations = 1000\n",
    "\n",
    "for i in range(iterations):\n",
    "    w1, w2, w0 = update_weights(w1, w2, w0, d2, target, alpha)\n",
    "    lf = loss_function(w1, w2, w0, d2, target)\n",
    "    lf_values.append(lf)\n",
    "\n",
    "print(w1, w2, w0)"
   ]
  },
  {
   "cell_type": "code",
   "execution_count": 56,
   "metadata": {
    "colab": {
     "base_uri": "https://localhost:8080/",
     "height": 451
    },
    "id": "mf-XPY1LoR9Z",
    "outputId": "5155d90d-425c-4e9b-db71-eafe2a63ff95"
   },
   "outputs": [
    {
     "data": {
      "text/plain": [
       "[<matplotlib.lines.Line2D at 0x7f5abe502820>]"
      ]
     },
     "execution_count": 56,
     "metadata": {},
     "output_type": "execute_result"
    },
    {
     "data": {
      "image/png": "[encoded data removed]",
      "text/plain": [
       "<Figure size 640x480 with 1 Axes>"
      ]
     },
     "metadata": {},
     "output_type": "display_data"
    }
   ],
   "source": [
    "plt.plot(its, lf_values)"
   ]
  },
  {
   "cell_type": "code",
   "execution_count": 57,
   "metadata": {
    "colab": {
     "base_uri": "https://localhost:8080/"
    },
    "id": "ZKfuW8fm_Rzi",
    "outputId": "ccb2269a-b6ed-4963-8059-ce1e0b4c2dfb"
   },
   "outputs": [
    {
     "name": "stdout",
     "output_type": "stream",
     "text": [
      "0.7876743224351483 1.3296083328779649 1.043574995600172\n"
     ]
    }
   ],
   "source": [
    "# exercise 3 - α=0.00001\n",
    "\n",
    "lf_values = []\n",
    "\n",
    "w0_old = w1_old = w2_old = w1 = w2 = w0 = 1\n",
    "\n",
    "alpha = 0.00001\n",
    "\n",
    "iterations = 1000\n",
    "\n",
    "for i in range(iterations):\n",
    "    w1, w2, w0 = update_weights(w1, w2, w0, d2, target, alpha)\n",
    "    lf = loss_function(w1, w2, w0, d2, target)\n",
    "    lf_values.append(lf)\n",
    "\n",
    "print(w1, w2, w0)"
   ]
  },
  {
   "cell_type": "code",
   "execution_count": 58,
   "metadata": {
    "colab": {
     "base_uri": "https://localhost:8080/",
     "height": 447
    },
    "id": "D8wsMLpQoaFX",
    "outputId": "4307e8ee-4ed6-4c9b-e6e1-1d6f42015b6b"
   },
   "outputs": [
    {
     "data": {
      "text/plain": [
       "[<matplotlib.lines.Line2D at 0x7f5abe3c2730>]"
      ]
     },
     "execution_count": 58,
     "metadata": {},
     "output_type": "execute_result"
    },
    {
     "data": {
      "image/png": "[encoded data removed]",
      "text/plain": [
       "<Figure size 640x480 with 1 Axes>"
      ]
     },
     "metadata": {},
     "output_type": "display_data"
    }
   ],
   "source": [
    "plt.plot(its, lf_values)"
   ]
  },
  {
   "cell_type": "markdown",
   "metadata": {
    "id": "rEGSZiO3q298"
   },
   "source": [
    "the alpha determines the step between each iteration,\n",
    "\n",
    "so it can't be too big otherwise you miss the minimum value and not converge\n",
    "\n",
    "but it also cannot be too small or it takes too much iterations, \n",
    "being computationally heavy to run\n",
    "\n",
    "my interpretation of the graphs is that for alpha = 0.01, loss function increases overtime which is not what we want, we want less loss\n",
    "\n",
    "apparently, for alpha = 0.00001 the loss decreases but it takes more iterations to do so, as for alpha = 0.001 the decrease is faster"
   ]
  },
  {
   "cell_type": "markdown",
   "metadata": {
    "id": "RyfOTq67B7bd"
   },
   "source": [
    "<h4> Exercise4: We usually don't know in advance how many times we need to modify the weights - when further updating has no effect. One solution to this problem is to check by what percentage the current weights change. Let's assume that if the change in the cost function is less than 0.1%, we stop the operation. How many steps should be taken to complete the previous task?"
   ]
  },
  {
   "cell_type": "code",
   "execution_count": 19,
   "metadata": {
    "colab": {
     "base_uri": "https://localhost:8080/"
    },
    "id": "Oa-N7CNTBb9j",
    "outputId": "eb260d49-c761-41a0-9742-e2e7a00afcb2"
   },
   "outputs": [
    {
     "name": "stdout",
     "output_type": "stream",
     "text": [
      "-11.108584789792182 -0.007922022844285337 -0.5845873456399128\n"
     ]
    }
   ],
   "source": [
    "# exercise 4\n",
    "\n",
    "w1 = w2 = w0 = 1\n",
    "alpha = 0.01\n",
    "error = 0.001\n",
    "i = 0\n",
    "test = False\n",
    "\n",
    "while test == False:\n",
    "    w0_old = w1\n",
    "    w2_old = w2\n",
    "    w1_old = w1\n",
    "\n",
    "    w1, w2, w0 = update_weights(w1, w2, w0, d2, target, alpha)\n",
    "    test = (w1/w1_old < error) and (w2/w2_old < error) and (w0/w0_old < error)\n",
    "    i += 1\n",
    "\n",
    "print(w1, w2, w0)"
   ]
  },
  {
   "cell_type": "code",
   "execution_count": 20,
   "metadata": {
    "colab": {
     "base_uri": "https://localhost:8080/"
    },
    "id": "rLvxoxiBEYfw",
    "outputId": "61ff23f6-f75b-4307-ed34-d61caaa6db8a"
   },
   "outputs": [
    {
     "data": {
      "text/plain": [
       "637"
      ]
     },
     "execution_count": 20,
     "metadata": {},
     "output_type": "execute_result"
    }
   ],
   "source": [
    "i"
   ]
  },
  {
   "cell_type": "markdown",
   "metadata": {
    "id": "IIIWwwRYB7be"
   },
   "source": [
    "Obviously, there is an implementation of the linear regression method in Python"
   ]
  },
  {
   "cell_type": "code",
   "execution_count": 21,
   "metadata": {
    "id": "0VP9vf_2B7be"
   },
   "outputs": [],
   "source": [
    "from sklearn.linear_model import LinearRegression"
   ]
  },
  {
   "cell_type": "code",
   "execution_count": 22,
   "metadata": {
    "id": "8TLxyUjtB7bf"
   },
   "outputs": [],
   "source": [
    "model = LinearRegression()\n",
    "model.fit(d2, target);"
   ]
  },
  {
   "cell_type": "code",
   "execution_count": 23,
   "metadata": {
    "colab": {
     "base_uri": "https://localhost:8080/"
    },
    "id": "7s3IG_HeB7bf",
    "outputId": "76713234-51f5-4971-f504-69573d291268"
   },
   "outputs": [
    {
     "data": {
      "text/plain": [
       "array([-0.33471389,  7.82205511])"
      ]
     },
     "execution_count": 23,
     "metadata": {},
     "output_type": "execute_result"
    }
   ],
   "source": [
    "model.coef_ #weights for variables"
   ]
  },
  {
   "cell_type": "code",
   "execution_count": 24,
   "metadata": {
    "colab": {
     "base_uri": "https://localhost:8080/"
    },
    "id": "R2hzaIn2B7bg",
    "outputId": "1d105f37-4c2d-4267-a5f7-a02f4b1924fa"
   },
   "outputs": [
    {
     "data": {
      "text/plain": [
       "-22.89831572922507"
      ]
     },
     "execution_count": 24,
     "metadata": {},
     "output_type": "execute_result"
    }
   ],
   "source": [
    "model.intercept_ #w0 parameter"
   ]
  },
  {
   "cell_type": "markdown",
   "metadata": {
    "id": "KiStHjJrXZn2"
   },
   "source": [
    "<h4> Exercise5: Compare these parameters with those obtained from Exercise3. Try to explain the observed discrepnacies."
   ]
  },
  {
   "cell_type": "markdown",
   "metadata": {
    "id": "mFRmaF_XQlPZ"
   },
   "source": [
    "alpha = 0.01\n",
    "\n",
    "w1: 189.23801606437337, w2: 85.4860327498343, w0: 12.549821709958701\n",
    "\n",
    "\n",
    "alpha = 0.001\n",
    "\n",
    "w1: -0.5240516597773193, w2: 4.3480921568559605, w0: 1.2535642605913597\n",
    "\n",
    "\n",
    "alpha = 0.00001\n",
    "\n",
    "w1: 0.7876743224351483, w2: 1.3296083328779649, w0: 1.043574995600172\n",
    "\n",
    "\n",
    "library model\n",
    "\n",
    "w1: -0.33471389, w2:  7.82205511, w0: -22.89831572922507\n",
    "\n",
    "they are all pretty different but I believe that for this case, alpha = 0.001 works better, it is a bit more similiar to the library model than the others\n"
   ]
  },
  {
   "cell_type": "code",
   "execution_count": 25,
   "metadata": {
    "colab": {
     "base_uri": "https://localhost:8080/"
    },
    "id": "9L3npfxfB7bh",
    "outputId": "e33b8909-b9bb-4733-c759-71161baa78c4"
   },
   "outputs": [
    {
     "name": "stdout",
     "output_type": "stream",
     "text": [
      "0.5362984005856312\n"
     ]
    }
   ],
   "source": [
    "r_sq = model.score(d2, target) #R2 for model\n",
    "print(r_sq) "
   ]
  },
  {
   "cell_type": "code",
   "execution_count": 26,
   "metadata": {
    "colab": {
     "base_uri": "https://localhost:8080/"
    },
    "id": "WHSdahcaB7bi",
    "outputId": "e4ea7e21-73d1-4c8f-9628-45cd1ae42222"
   },
   "outputs": [
    {
     "name": "stdout",
     "output_type": "stream",
     "text": [
      "[27.75850755 24.96067296 30.93672306 31.11074967 32.27623588]\n"
     ]
    }
   ],
   "source": [
    "y_pred = model.predict(d2) #predictions\n",
    "print(y_pred[:5])"
   ]
  },
  {
   "cell_type": "markdown",
   "metadata": {
    "id": "skZR-qzpB7bi"
   },
   "source": [
    "<h3> What if the dependence is not linear?"
   ]
  },
  {
   "cell_type": "code",
   "execution_count": 27,
   "metadata": {
    "colab": {
     "base_uri": "https://localhost:8080/",
     "height": 430
    },
    "id": "7mt7uWt_B7bi",
    "outputId": "d87b6116-3e64-490a-b095-c5657dd653a8"
   },
   "outputs": [
    {
     "data": {
      "image/png": "[encoded data removed]",
      "text/plain": [
       "<Figure size 640x480 with 1 Axes>"
      ]
     },
     "metadata": {},
     "output_type": "display_data"
    }
   ],
   "source": [
    "def non_linear(x):\n",
    "    return 3*x**2+8*np.sin(x)+7\n",
    "\n",
    "x = np.linspace(-3,3,100) #100 numbers from the [-3,3] range\n",
    "y = non_linear(x)\n",
    "\n",
    "plt.scatter(x,y)\n",
    "plt.show()"
   ]
  },
  {
   "cell_type": "code",
   "execution_count": 28,
   "metadata": {
    "id": "j0gMnO5hB7bk"
   },
   "outputs": [],
   "source": [
    "# x1 = x**2\n",
    "# x2 = np.sin(x)\n",
    "# X = np.vstack((x1, x2)).T #make a 2D table\n",
    "# target = y"
   ]
  },
  {
   "cell_type": "code",
   "execution_count": 29,
   "metadata": {
    "id": "Ww5X6w-YB7bk"
   },
   "outputs": [],
   "source": [
    "# w1 = 1\n",
    "# w2 = 1\n",
    "# w0 = 1\n",
    "\n",
    "# l = []\n",
    "\n",
    "# # for i in range(10000):\n",
    "# #     l.append(loss_function(w1, w2, w0, X, target))\n",
    "# #     w1, w2, w0 = update_weigths(w1, w2, w0, X, target, 0.001)"
   ]
  },
  {
   "cell_type": "code",
   "execution_count": 30,
   "metadata": {
    "colab": {
     "base_uri": "https://localhost:8080/"
    },
    "id": "zPWtUHbbB7bl",
    "outputId": "4d821c7b-ab2c-4a65-c7ef-898b7d3fc894"
   },
   "outputs": [
    {
     "data": {
      "text/plain": [
       "(-11.108584789792182, -0.007922022844285337, -0.5845873456399128)"
      ]
     },
     "execution_count": 30,
     "metadata": {},
     "output_type": "execute_result"
    }
   ],
   "source": [
    "w1, w2, w0"
   ]
  },
  {
   "cell_type": "markdown",
   "metadata": {
    "id": "0fvqhU3PB7bl"
   },
   "source": [
    "Conclusion: The linear method can also be used for non-linear relations."
   ]
  },
  {
   "cell_type": "markdown",
   "metadata": {
    "id": "BgYBxyNJB7bm"
   },
   "source": [
    "<h3> Model parameters vs. hyperparameters"
   ]
  },
  {
   "cell_type": "markdown",
   "metadata": {
    "id": "3WwsITPQB7bm"
   },
   "source": [
    "\n",
    "- model parameters ($w_1, w_2, w_0$)\n",
    "- hyperparameters (e.g. $\\alpha$) are external to the model\n",
    "\n",
    "We usually divide the data into 2 or 3 groups - a training set, a validation set and a test set.\n",
    "\n",
    "Generally:\n",
    "- On the training set, we teach the model parameters using the gradient descent method.\n",
    "- Using the validation set, we select the most optimal hyperparameters.\n",
    "- We check the selected set of parameters and hyperparameters on the test set"
   ]
  },
  {
   "cell_type": "markdown",
   "metadata": {
    "id": "k0F-fV6oB7bm"
   },
   "source": [
    "<h4> Exercise6: Consider again the data $d2/target$.\n",
    "    \n",
    "- Divide them into three subsets - training (60%), validation (20%) and test (20%); define the appropriate in-built function for such as task.\n",
    "- Test different values of $\\alpha$ parameters on the validation set, on this basis choose one that you will use to train the model parameters on the training set.\n",
    "- Finally, evaluate the cost function on the test set. Comment your results."
   ]
  },
  {
   "cell_type": "code",
   "execution_count": 31,
   "metadata": {
    "id": "oHEZoaGdRYiZ"
   },
   "outputs": [],
   "source": [
    "#splitting the dataset\n",
    "from sklearn.model_selection import train_test_split\n",
    "\n",
    "X_train, X_test, y_train, y_test = train_test_split(d2, target, test_size=0.4, random_state=42)\n",
    "\n",
    "X_test, X_valid, y_test, y_valid = train_test_split(X_test, y_test, test_size=0.5, random_state=42)"
   ]
  },
  {
   "cell_type": "code",
   "execution_count": 32,
   "metadata": {
    "id": "a9-sAfk1SJbx"
   },
   "outputs": [],
   "source": [
    "# choosing alpha value\n",
    "\n",
    "alphas = [0.1, 0.01, 0.001, 0.00001, 0.0000001]\n",
    "\n",
    "weights = np.zeros((len(alphas), 3))\n",
    "\n",
    "for idx in range(len(alphas)):    \n",
    "\n",
    "    w1 = w2 = w0 = 1\n",
    "\n",
    "    it = 1000\n",
    "    i = 0\n",
    "    test = False\n",
    "    error = 0.001\n",
    "\n",
    "    while i <= it and test == False:\n",
    "\n",
    "        w0_old = w1\n",
    "        w2_old = w2\n",
    "        w1_old = w1\n",
    "        \n",
    "        w1, w2, w0 = update_weights(w1, w2, w0, X_valid, y_valid, alphas[idx])\n",
    "\n",
    "        test = (w1/w1_old < error) and (w2/w2_old < error) and (w0/w0_old < error)\n",
    "\n",
    "        i += 1\n",
    "\n",
    "    weights[idx]=[w1, w2, w0]"
   ]
  },
  {
   "cell_type": "code",
   "execution_count": 33,
   "metadata": {
    "colab": {
     "base_uri": "https://localhost:8080/"
    },
    "id": "prl-XuSoVafZ",
    "outputId": "ca40d59b-9415-433c-952d-874eae3deb9d"
   },
   "outputs": [
    {
     "data": {
      "text/plain": [
       "array([[-1.05803727e+03, -4.38008273e+02, -7.10730852e+01],\n",
       "       [ 1.03823939e+01,  9.03236054e+00,  1.81228292e+00],\n",
       "       [-6.15511387e-01,  4.40543650e+00,  1.23481340e+00],\n",
       "       [ 7.24194192e-01,  1.29019619e+00,  1.03864703e+00],\n",
       "       [ 9.95477610e-01,  1.00237901e+00,  1.00029744e+00]])"
      ]
     },
     "execution_count": 33,
     "metadata": {},
     "output_type": "execute_result"
    }
   ],
   "source": [
    "weights"
   ]
  },
  {
   "cell_type": "markdown",
   "metadata": {
    "id": "VHEJ8U6o59Bm"
   },
   "source": [
    "as alpha decreases we see that the weights values have a tendency\n",
    "\n",
    "I will choose the lowest two alphas to check score and time"
   ]
  },
  {
   "cell_type": "code",
   "execution_count": 34,
   "metadata": {
    "id": "VB4q0bfVWR6y"
   },
   "outputs": [],
   "source": [
    "#%%time\n",
    "import time\n",
    "start = time.time()\n",
    "\n",
    "# checking alpha = 1e-7\n",
    "\n",
    "w1_1 = w2_1 = w0_1 = 1\n",
    "alpha_1 = 0.0000001\n",
    "\n",
    "test = False\n",
    "error = 0.001\n",
    "\n",
    "i = 0\n",
    "it = 1100\n",
    "\n",
    "while test == False and i <= it:\n",
    "    w0_old_1 = w1_1\n",
    "    w2_old_1 = w2_1\n",
    "    w1_old_1 = w1_1\n",
    "\n",
    "    w1_1, w2_1, w0_1 = update_weights(w1_1, w2_1, w0_1, X_train, y_train, alpha)\n",
    "    test = (w1_1/w1_old_1 < error) and (w2_1/w2_old_1 < error) and (w0_1/w0_old_1 < error)\n",
    "    i += 1\n",
    "\n",
    "total_1 = time.time() - start"
   ]
  },
  {
   "cell_type": "code",
   "execution_count": 35,
   "metadata": {
    "colab": {
     "base_uri": "https://localhost:8080/"
    },
    "id": "M7KhDMqS344i",
    "outputId": "bafe59e9-b3f6-44d7-dbac-7fc9b6e14489"
   },
   "outputs": [
    {
     "data": {
      "text/plain": [
       "0.40800312179878745"
      ]
     },
     "execution_count": 35,
     "metadata": {},
     "output_type": "execute_result"
    }
   ],
   "source": [
    "y_pred = []\n",
    "\n",
    "for i in range(len(X_test)):\n",
    "    y_pred.append(round(X_test[i][0]*w1_1 + X_test[i][1]*w2_1 + w0_1, 3))\n",
    "\n",
    "num = 0\n",
    "denom = 0\n",
    "\n",
    "avg = np.mean(y_test)\n",
    "\n",
    "for i in range(len(y_test)):\n",
    "    num += (y_pred[i]-avg)**2\n",
    "    denom += (y_test[i]-avg)**2\n",
    "\n",
    "r_1 = num/denom\n",
    "\n",
    "r_1"
   ]
  },
  {
   "cell_type": "code",
   "execution_count": 36,
   "metadata": {
    "id": "4pf4YmIw6opg"
   },
   "outputs": [],
   "source": [
    "#%%time\n",
    "\n",
    "# checking alpha = 1e-9\n",
    "\n",
    "start = time.time()\n",
    "\n",
    "w1_2 = w2_2 = w0_2 = 1\n",
    "alpha_2 = 0.000000001\n",
    "\n",
    "test = False\n",
    "error = 0.001\n",
    "\n",
    "i = 0\n",
    "it = 1100\n",
    "\n",
    "while test == False and i <= it:\n",
    "    w0_old_2 = w1_2\n",
    "    w2_old_2 = w2_2\n",
    "    w1_old_2 = w1_2\n",
    "\n",
    "    w1_2, w2_2, w0_2 = update_weights(w1_2, w2_2, w0_2, X_train, y_train, alpha)\n",
    "    test = (w1_2/w1_old_2 < error) and (w2_2/w2_old_2 < error) and (w0_2/w0_old_2 < error)\n",
    "    i += 1\n",
    "\n",
    "total_2 = time.time() - start"
   ]
  },
  {
   "cell_type": "code",
   "execution_count": 37,
   "metadata": {
    "colab": {
     "base_uri": "https://localhost:8080/"
    },
    "id": "if-pMpxA6r_-",
    "outputId": "bdd175b9-19ba-4ff9-fe81-046172e752fe"
   },
   "outputs": [
    {
     "data": {
      "text/plain": [
       "0.40800312179878745"
      ]
     },
     "execution_count": 37,
     "metadata": {},
     "output_type": "execute_result"
    }
   ],
   "source": [
    "y_pred = []\n",
    "\n",
    "for i in range(len(X_test)):\n",
    "    y_pred.append(round(X_test[i][0]*w1_2 + X_test[i][1]*w2_2 + w0_2,3))\n",
    "\n",
    "num = 0\n",
    "denom = 0\n",
    "\n",
    "avg = np.mean(y_test)\n",
    "\n",
    "for i in range(len(y_test)):\n",
    "    num += (y_pred[i]-avg)**2\n",
    "    denom += (y_test[i]-avg)**2\n",
    "\n",
    "r_2 = num/denom\n",
    "\n",
    "r_2"
   ]
  },
  {
   "cell_type": "code",
   "execution_count": 38,
   "metadata": {
    "colab": {
     "base_uri": "https://localhost:8080/"
    },
    "id": "49bc1izz8QPM",
    "outputId": "40bc73d8-9b13-4f73-ed14-28b51f87f5cc"
   },
   "outputs": [
    {
     "name": "stdout",
     "output_type": "stream",
     "text": [
      "alpha \t\t time(ms) \t r2 score \n",
      "\n",
      "1.000000e-07 \t 2.284078 \t 0.408000 \n",
      "\n",
      "1.000000e-09 \t 2.620114 \t 0.408000 \n",
      "\n"
     ]
    }
   ],
   "source": [
    "print('alpha \\t\\t time(ms) \\t r2 score \\n')\n",
    "\n",
    "print(\"%s \\t %f \\t %f \\n\" % (\"{:e}\".format(alpha_1), total_1, round(r_1, 3)))\n",
    "\n",
    "print('%s \\t %f \\t %f \\n' % (\"{:e}\".format(alpha_2), total_2, round(r_2, 3)))\n",
    "\n",
    "# since there was not much difference in scores,\n",
    "# I believe 1e-07 is enough"
   ]
  },
  {
   "cell_type": "markdown",
   "metadata": {
    "id": "q7UKfZDF73w5"
   },
   "source": [
    "since the scores are similar and the time increases a bit,\n",
    "I believe it would be ok to use 1e-7 in this case"
   ]
  },
  {
   "cell_type": "markdown",
   "metadata": {
    "id": "lVRAs-UOB7bn"
   },
   "source": [
    "<h3> Supplementary materials"
   ]
  },
  {
   "cell_type": "code",
   "execution_count": 39,
   "metadata": {
    "colab": {
     "base_uri": "https://localhost:8080/"
    },
    "id": "BZdFmqbrB7bn",
    "outputId": "1dfca4ad-7fa9-49ff-9425-5dc03f5f0696"
   },
   "outputs": [
    {
     "name": "stdout",
     "output_type": "stream",
     "text": [
      "   a  b\n",
      "0  1  0\n",
      "1  2  5\n",
      "2  6 -5\n",
      "\n",
      "[[-0.9258201   0.        ]\n",
      " [-0.46291005  1.22474487]\n",
      " [ 1.38873015 -1.22474487]]\n"
     ]
    }
   ],
   "source": [
    "#pandas and standarization (x-mean)/sd\n",
    "\n",
    "import pandas as pd\n",
    "from sklearn.preprocessing import StandardScaler\n",
    "scale = StandardScaler()\n",
    "\n",
    "X = pd.DataFrame({\"a\":[1,2,6], \"b\":[0,5,-5]})\n",
    "print(X)\n",
    "print()\n",
    "scaledX = scale.fit_transform(X)\n",
    "print(scaledX)"
   ]
  },
  {
   "cell_type": "code",
   "execution_count": 40,
   "metadata": {
    "colab": {
     "base_uri": "https://localhost:8080/"
    },
    "id": "qBOiJniwB7bn",
    "outputId": "358f3fb5-8418-4f9f-f16d-78b01aee96c1"
   },
   "outputs": [
    {
     "name": "stdout",
     "output_type": "stream",
     "text": [
      "[-0.9258201  -0.46291005  1.38873015]\n"
     ]
    }
   ],
   "source": [
    "#compare with the previous cell\n",
    "v = np.array([1,2,6])\n",
    "print((v - np.mean(v))/np.std(v))"
   ]
  },
  {
   "cell_type": "code",
   "execution_count": 41,
   "metadata": {
    "colab": {
     "base_uri": "https://localhost:8080/"
    },
    "id": "nNP6Wm3iB7bn",
    "outputId": "b24d9189-3eb6-40f9-eaba-965873d6e91e"
   },
   "outputs": [
    {
     "name": "stdout",
     "output_type": "stream",
     "text": [
      "[[0 1]\n",
      " [2 3]\n",
      " [4 5]\n",
      " [6 7]\n",
      " [8 9]]\n",
      "\n",
      "[0, 1, 2, 3, 4]\n",
      "\n",
      "[[4 5]\n",
      " [0 1]\n",
      " [6 7]]\n",
      "\n",
      "[[2 3]\n",
      " [8 9]]\n",
      "\n",
      "[2, 0, 3]\n",
      "\n",
      "[1, 4]\n"
     ]
    }
   ],
   "source": [
    "#splitting the dataset\n",
    "from sklearn.model_selection import train_test_split\n",
    "\n",
    "X, y = np.arange(10).reshape((5, 2)), range(5)\n",
    "print(X)\n",
    "print()\n",
    "print(list(y))\n",
    "print()\n",
    "\n",
    "X_train, X_test, y_train, y_test = train_test_split(X, y, test_size=0.4, random_state=42)\n",
    "\n",
    "print(X_train)\n",
    "print()\n",
    "print(X_test)\n",
    "print()\n",
    "print(y_train)\n",
    "print()\n",
    "print(y_test)"
   ]
  },
  {
   "cell_type": "code",
   "execution_count": 41,
   "metadata": {
    "id": "lpJQE6zy6THf"
   },
   "outputs": [],
   "source": []
  }
 ],
 "metadata": {
  "colab": {
   "provenance": []
  },
  "kernelspec": {
   "display_name": "Python 3 (ipykernel)",
   "language": "python",
   "name": "python3"
  },
  "language_info": {
   "codemirror_mode": {
    "name": "ipython",
    "version": 3
   },
   "file_extension": ".py",
   "mimetype": "text/x-python",
   "name": "python",
   "nbconvert_exporter": "python",
   "pygments_lexer": "ipython3",
   "version": "3.9.13"
  }
 },
 "nbformat": 4,
 "nbformat_minor": 4
}
