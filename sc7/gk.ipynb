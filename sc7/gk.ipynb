{
 "cells": [
  {
   "cell_type": "code",
   "execution_count": null,
   "id": "21ef0082-26b4-4f8d-b35b-1a95a1572834",
   "metadata": {},
   "outputs": [],
   "source": [
    "import numpy as np\n",
    "\n",
    "def calculate_d(X, centers, i, j, A):\n",
    "    xj = X[j]\n",
    "    ci = centers[i]\n",
    "    dist = np.sqrt(np.dot((xj - ci).T, np.dot(A[i], (xj - ci))))\n",
    "    print(dist)\n",
    "    return dist\n"
   ]
  },
  {
   "cell_type": "code",
   "execution_count": null,
   "id": "eab9275a-7ea4-4e17-ba3b-9f71711f8741",
   "metadata": {},
   "outputs": [],
   "source": [
    "def calculate_u(X, centers, K, a):\n",
    "    m = X.shape[1]\n",
    "    U = np.empty((K,m),float)\n",
    "\n",
    "    for i in range(U.shape[0]):\n",
    "        for j in range(U.shape[1]):\n",
    "            \n",
    "            sum = 0\n",
    "            for k in range(K):\n",
    "                distances = calculate_d(X, centers, i, j, A)/calculate_d(X, centers, k, j, A)\n",
    "                print(distances)\n",
    "                sum += distances\n",
    "            U[i][j] = 1/(sum[0]**(2/(m-1)))\n",
    "            \n",
    "    return U\n",
    "                "
   ]
  }
 ],
 "metadata": {
  "kernelspec": {
   "display_name": "Python 3 (ipykernel)",
   "language": "python",
   "name": "python3"
  },
  "language_info": {
   "codemirror_mode": {
    "name": "ipython",
    "version": 3
   },
   "file_extension": ".py",
   "mimetype": "text/x-python",
   "name": "python",
   "nbconvert_exporter": "python",
   "pygments_lexer": "ipython3",
   "version": "3.9.13"
  }
 },
 "nbformat": 4,
 "nbformat_minor": 5
}
