{
 "cells": [
  {
   "cell_type": "code",
   "execution_count": 2,
   "id": "959cbdc3-b87f-405f-a011-b40dbbeeed2e",
   "metadata": {},
   "outputs": [],
   "source": [
    "import pandas as pd\n",
    "import numpy as np\n",
    "import matplotlib.pyplot as plt\n",
    "from sklearn.preprocessing import LabelEncoder\n",
    "from sklearn.preprocessing import StandardScaler\n",
    "from sklearn.utils.class_weight import compute_class_weight\n",
    "from scipy.stats import shapiro\n",
    "from sklearn.model_selection import train_test_split\n",
    "from sklearn.metrics import f1_score\n",
    "from sklearn.metrics import accuracy_score\n",
    "from sklearn.ensemble import RandomForestClassifier\n",
    "from sklearn.neighbors import KNeighborsClassifier\n",
    "from sklearn.naive_bayes import GaussianNB\n",
    "from sklearn.linear_model import LogisticRegression\n",
    "from sklearn import tree\n",
    "from sklearn.svm import SVC\n",
    "from sklearn.linear_model import SGDClassifier\n",
    "from sklearn.decomposition import PCA\n",
    "from sklearn.feature_selection import SelectFromModel\n",
    "from warnings import simplefilter\n",
    "simplefilter(action='ignore', category=FutureWarning)"
   ]
  },
  {
   "cell_type": "markdown",
   "id": "5bd13339-fbac-43a8-b669-314264aa953d",
   "metadata": {
    "tags": []
   },
   "source": [
    "# Data preprocessing"
   ]
  },
  {
   "cell_type": "code",
   "execution_count": 3,
   "id": "d3e2c9b2-66ae-4bb6-9aeb-af3e4558d7ad",
   "metadata": {},
   "outputs": [],
   "source": [
    "data = pd.read_csv('EEG.machinelearning_data_BRMH.csv', header=0, index_col=0)"
   ]
  },
  {
   "cell_type": "code",
   "execution_count": 4,
   "id": "41aa6bff-6aa9-459f-a9ab-2c7734038af2",
   "metadata": {},
   "outputs": [
    {
     "data": {
      "text/plain": [
       "Depressive disorder               199\n",
       "Schizophrenia                     117\n",
       "Healthy control                    95\n",
       "Alcohol use disorder               93\n",
       "Behavioral addiction disorder      93\n",
       "Bipolar disorder                   67\n",
       "Panic disorder                     59\n",
       "Posttraumatic stress disorder      52\n",
       "Social anxiety disorder            48\n",
       "Obsessive compulsitve disorder     46\n",
       "Acute stress disorder              38\n",
       "Adjustment disorder                38\n",
       "Name: specific.disorder, dtype: int64"
      ]
     },
     "execution_count": 4,
     "metadata": {},
     "output_type": "execute_result"
    }
   ],
   "source": [
    "data['specific.disorder'].value_counts()"
   ]
  },
  {
   "cell_type": "markdown",
   "id": "48299aa5-6d89-42e0-8fa6-01ec397714ef",
   "metadata": {},
   "source": [
    "## Checking the features"
   ]
  },
  {
   "cell_type": "code",
   "execution_count": 3,
   "id": "ee11262b-dc4d-4abc-a733-640e4a0b161b",
   "metadata": {},
   "outputs": [
    {
     "data": {
      "text/html": [
       "<div>\n",
       "<style scoped>\n",
       "    .dataframe tbody tr th:only-of-type {\n",
       "        vertical-align: middle;\n",
       "    }\n",
       "\n",
       "    .dataframe tbody tr th {\n",
       "        vertical-align: top;\n",
       "    }\n",
       "\n",
       "    .dataframe thead th {\n",
       "        text-align: right;\n",
       "    }\n",
       "</style>\n",
       "<table border=\"1\" class=\"dataframe\">\n",
       "  <thead>\n",
       "    <tr style=\"text-align: right;\">\n",
       "      <th></th>\n",
       "      <th>sex</th>\n",
       "      <th>age</th>\n",
       "      <th>eeg.date</th>\n",
       "      <th>education</th>\n",
       "      <th>IQ</th>\n",
       "      <th>main.disorder</th>\n",
       "      <th>specific.disorder</th>\n",
       "      <th>AB.A.delta.a.FP1</th>\n",
       "      <th>AB.A.delta.b.FP2</th>\n",
       "      <th>AB.A.delta.c.F7</th>\n",
       "      <th>...</th>\n",
       "      <th>COH.F.gamma.o.Pz.p.P4</th>\n",
       "      <th>COH.F.gamma.o.Pz.q.T6</th>\n",
       "      <th>COH.F.gamma.o.Pz.r.O1</th>\n",
       "      <th>COH.F.gamma.o.Pz.s.O2</th>\n",
       "      <th>COH.F.gamma.p.P4.q.T6</th>\n",
       "      <th>COH.F.gamma.p.P4.r.O1</th>\n",
       "      <th>COH.F.gamma.p.P4.s.O2</th>\n",
       "      <th>COH.F.gamma.q.T6.r.O1</th>\n",
       "      <th>COH.F.gamma.q.T6.s.O2</th>\n",
       "      <th>COH.F.gamma.r.O1.s.O2</th>\n",
       "    </tr>\n",
       "    <tr>\n",
       "      <th>no.</th>\n",
       "      <th></th>\n",
       "      <th></th>\n",
       "      <th></th>\n",
       "      <th></th>\n",
       "      <th></th>\n",
       "      <th></th>\n",
       "      <th></th>\n",
       "      <th></th>\n",
       "      <th></th>\n",
       "      <th></th>\n",
       "      <th></th>\n",
       "      <th></th>\n",
       "      <th></th>\n",
       "      <th></th>\n",
       "      <th></th>\n",
       "      <th></th>\n",
       "      <th></th>\n",
       "      <th></th>\n",
       "      <th></th>\n",
       "      <th></th>\n",
       "      <th></th>\n",
       "    </tr>\n",
       "  </thead>\n",
       "  <tbody>\n",
       "    <tr>\n",
       "      <th>1</th>\n",
       "      <td>M</td>\n",
       "      <td>57.0</td>\n",
       "      <td>2012.8.30</td>\n",
       "      <td>NaN</td>\n",
       "      <td>NaN</td>\n",
       "      <td>Addictive disorder</td>\n",
       "      <td>Alcohol use disorder</td>\n",
       "      <td>35.998557</td>\n",
       "      <td>21.717375</td>\n",
       "      <td>21.518280</td>\n",
       "      <td>...</td>\n",
       "      <td>55.989192</td>\n",
       "      <td>16.739679</td>\n",
       "      <td>23.452271</td>\n",
       "      <td>45.678820</td>\n",
       "      <td>30.167520</td>\n",
       "      <td>16.918761</td>\n",
       "      <td>48.850427</td>\n",
       "      <td>9.422630</td>\n",
       "      <td>34.507082</td>\n",
       "      <td>28.613029</td>\n",
       "    </tr>\n",
       "    <tr>\n",
       "      <th>2</th>\n",
       "      <td>M</td>\n",
       "      <td>37.0</td>\n",
       "      <td>2012.9.6</td>\n",
       "      <td>6.0</td>\n",
       "      <td>120.0</td>\n",
       "      <td>Addictive disorder</td>\n",
       "      <td>Alcohol use disorder</td>\n",
       "      <td>13.425118</td>\n",
       "      <td>11.002916</td>\n",
       "      <td>11.942516</td>\n",
       "      <td>...</td>\n",
       "      <td>45.595619</td>\n",
       "      <td>17.510824</td>\n",
       "      <td>26.777368</td>\n",
       "      <td>28.201062</td>\n",
       "      <td>57.108861</td>\n",
       "      <td>32.375401</td>\n",
       "      <td>60.351749</td>\n",
       "      <td>13.900981</td>\n",
       "      <td>57.831848</td>\n",
       "      <td>43.463261</td>\n",
       "    </tr>\n",
       "    <tr>\n",
       "      <th>3</th>\n",
       "      <td>M</td>\n",
       "      <td>32.0</td>\n",
       "      <td>2012.9.10</td>\n",
       "      <td>16.0</td>\n",
       "      <td>113.0</td>\n",
       "      <td>Addictive disorder</td>\n",
       "      <td>Alcohol use disorder</td>\n",
       "      <td>29.941780</td>\n",
       "      <td>27.544684</td>\n",
       "      <td>17.150159</td>\n",
       "      <td>...</td>\n",
       "      <td>99.475453</td>\n",
       "      <td>70.654171</td>\n",
       "      <td>39.131547</td>\n",
       "      <td>69.920996</td>\n",
       "      <td>71.063644</td>\n",
       "      <td>38.534505</td>\n",
       "      <td>69.908764</td>\n",
       "      <td>27.180532</td>\n",
       "      <td>64.803155</td>\n",
       "      <td>31.485799</td>\n",
       "    </tr>\n",
       "    <tr>\n",
       "      <th>4</th>\n",
       "      <td>M</td>\n",
       "      <td>35.0</td>\n",
       "      <td>2012.10.8</td>\n",
       "      <td>18.0</td>\n",
       "      <td>126.0</td>\n",
       "      <td>Addictive disorder</td>\n",
       "      <td>Alcohol use disorder</td>\n",
       "      <td>21.496226</td>\n",
       "      <td>21.846832</td>\n",
       "      <td>17.364316</td>\n",
       "      <td>...</td>\n",
       "      <td>59.986561</td>\n",
       "      <td>63.822201</td>\n",
       "      <td>36.478254</td>\n",
       "      <td>47.117006</td>\n",
       "      <td>84.658376</td>\n",
       "      <td>24.724096</td>\n",
       "      <td>50.299349</td>\n",
       "      <td>35.319695</td>\n",
       "      <td>79.822944</td>\n",
       "      <td>41.141873</td>\n",
       "    </tr>\n",
       "    <tr>\n",
       "      <th>5</th>\n",
       "      <td>M</td>\n",
       "      <td>36.0</td>\n",
       "      <td>2012.10.18</td>\n",
       "      <td>16.0</td>\n",
       "      <td>112.0</td>\n",
       "      <td>Addictive disorder</td>\n",
       "      <td>Alcohol use disorder</td>\n",
       "      <td>37.775667</td>\n",
       "      <td>33.607679</td>\n",
       "      <td>21.865556</td>\n",
       "      <td>...</td>\n",
       "      <td>61.462720</td>\n",
       "      <td>59.166097</td>\n",
       "      <td>51.465531</td>\n",
       "      <td>58.635415</td>\n",
       "      <td>80.685608</td>\n",
       "      <td>62.138436</td>\n",
       "      <td>75.888749</td>\n",
       "      <td>61.003944</td>\n",
       "      <td>87.455509</td>\n",
       "      <td>70.531662</td>\n",
       "    </tr>\n",
       "  </tbody>\n",
       "</table>\n",
       "<p>5 rows × 1148 columns</p>\n",
       "</div>"
      ],
      "text/plain": [
       "    sex   age    eeg.date  education     IQ       main.disorder  \\\n",
       "no.                                                               \n",
       "1     M  57.0   2012.8.30        NaN    NaN  Addictive disorder   \n",
       "2     M  37.0    2012.9.6        6.0  120.0  Addictive disorder   \n",
       "3     M  32.0   2012.9.10       16.0  113.0  Addictive disorder   \n",
       "4     M  35.0   2012.10.8       18.0  126.0  Addictive disorder   \n",
       "5     M  36.0  2012.10.18       16.0  112.0  Addictive disorder   \n",
       "\n",
       "        specific.disorder  AB.A.delta.a.FP1  AB.A.delta.b.FP2  \\\n",
       "no.                                                             \n",
       "1    Alcohol use disorder         35.998557         21.717375   \n",
       "2    Alcohol use disorder         13.425118         11.002916   \n",
       "3    Alcohol use disorder         29.941780         27.544684   \n",
       "4    Alcohol use disorder         21.496226         21.846832   \n",
       "5    Alcohol use disorder         37.775667         33.607679   \n",
       "\n",
       "     AB.A.delta.c.F7  ...  COH.F.gamma.o.Pz.p.P4  COH.F.gamma.o.Pz.q.T6  \\\n",
       "no.                   ...                                                 \n",
       "1          21.518280  ...              55.989192              16.739679   \n",
       "2          11.942516  ...              45.595619              17.510824   \n",
       "3          17.150159  ...              99.475453              70.654171   \n",
       "4          17.364316  ...              59.986561              63.822201   \n",
       "5          21.865556  ...              61.462720              59.166097   \n",
       "\n",
       "     COH.F.gamma.o.Pz.r.O1  COH.F.gamma.o.Pz.s.O2  COH.F.gamma.p.P4.q.T6  \\\n",
       "no.                                                                        \n",
       "1                23.452271              45.678820              30.167520   \n",
       "2                26.777368              28.201062              57.108861   \n",
       "3                39.131547              69.920996              71.063644   \n",
       "4                36.478254              47.117006              84.658376   \n",
       "5                51.465531              58.635415              80.685608   \n",
       "\n",
       "     COH.F.gamma.p.P4.r.O1  COH.F.gamma.p.P4.s.O2  COH.F.gamma.q.T6.r.O1  \\\n",
       "no.                                                                        \n",
       "1                16.918761              48.850427               9.422630   \n",
       "2                32.375401              60.351749              13.900981   \n",
       "3                38.534505              69.908764              27.180532   \n",
       "4                24.724096              50.299349              35.319695   \n",
       "5                62.138436              75.888749              61.003944   \n",
       "\n",
       "     COH.F.gamma.q.T6.s.O2  COH.F.gamma.r.O1.s.O2  \n",
       "no.                                                \n",
       "1                34.507082              28.613029  \n",
       "2                57.831848              43.463261  \n",
       "3                64.803155              31.485799  \n",
       "4                79.822944              41.141873  \n",
       "5                87.455509              70.531662  \n",
       "\n",
       "[5 rows x 1148 columns]"
      ]
     },
     "execution_count": 3,
     "metadata": {},
     "output_type": "execute_result"
    }
   ],
   "source": [
    "data.head()"
   ]
  },
  {
   "cell_type": "code",
   "execution_count": 4,
   "id": "3650983c-44de-4551-a206-e1f7bdd404b4",
   "metadata": {},
   "outputs": [
    {
     "data": {
      "text/html": [
       "<div>\n",
       "<style scoped>\n",
       "    .dataframe tbody tr th:only-of-type {\n",
       "        vertical-align: middle;\n",
       "    }\n",
       "\n",
       "    .dataframe tbody tr th {\n",
       "        vertical-align: top;\n",
       "    }\n",
       "\n",
       "    .dataframe thead th {\n",
       "        text-align: right;\n",
       "    }\n",
       "</style>\n",
       "<table border=\"1\" class=\"dataframe\">\n",
       "  <thead>\n",
       "    <tr style=\"text-align: right;\">\n",
       "      <th></th>\n",
       "      <th>age</th>\n",
       "      <th>IQ</th>\n",
       "    </tr>\n",
       "  </thead>\n",
       "  <tbody>\n",
       "    <tr>\n",
       "      <th>count</th>\n",
       "      <td>945.000000</td>\n",
       "      <td>932.000000</td>\n",
       "    </tr>\n",
       "    <tr>\n",
       "      <th>mean</th>\n",
       "      <td>30.594804</td>\n",
       "      <td>101.580472</td>\n",
       "    </tr>\n",
       "    <tr>\n",
       "      <th>std</th>\n",
       "      <td>11.781592</td>\n",
       "      <td>17.022414</td>\n",
       "    </tr>\n",
       "    <tr>\n",
       "      <th>min</th>\n",
       "      <td>18.000000</td>\n",
       "      <td>49.000000</td>\n",
       "    </tr>\n",
       "    <tr>\n",
       "      <th>25%</th>\n",
       "      <td>21.730000</td>\n",
       "      <td>91.000000</td>\n",
       "    </tr>\n",
       "    <tr>\n",
       "      <th>50%</th>\n",
       "      <td>26.150000</td>\n",
       "      <td>102.000000</td>\n",
       "    </tr>\n",
       "    <tr>\n",
       "      <th>75%</th>\n",
       "      <td>35.450000</td>\n",
       "      <td>114.000000</td>\n",
       "    </tr>\n",
       "    <tr>\n",
       "      <th>max</th>\n",
       "      <td>71.880000</td>\n",
       "      <td>145.000000</td>\n",
       "    </tr>\n",
       "  </tbody>\n",
       "</table>\n",
       "</div>"
      ],
      "text/plain": [
       "              age          IQ\n",
       "count  945.000000  932.000000\n",
       "mean    30.594804  101.580472\n",
       "std     11.781592   17.022414\n",
       "min     18.000000   49.000000\n",
       "25%     21.730000   91.000000\n",
       "50%     26.150000  102.000000\n",
       "75%     35.450000  114.000000\n",
       "max     71.880000  145.000000"
      ]
     },
     "execution_count": 4,
     "metadata": {},
     "output_type": "execute_result"
    }
   ],
   "source": [
    "data[['age', 'IQ']].describe()"
   ]
  },
  {
   "cell_type": "code",
   "execution_count": 5,
   "id": "f5bade0e-61c8-4fa7-972b-46d87eedeccc",
   "metadata": {},
   "outputs": [
    {
     "data": {
      "text/plain": [
       "M    601\n",
       "F    344\n",
       "Name: sex, dtype: int64"
      ]
     },
     "execution_count": 5,
     "metadata": {},
     "output_type": "execute_result"
    }
   ],
   "source": [
    "data['sex'].value_counts()"
   ]
  },
  {
   "cell_type": "markdown",
   "id": "472dcb0b-8886-42b2-9add-3de456f8e9b9",
   "metadata": {},
   "source": [
    "Our goal is to predict the specific disorder"
   ]
  },
  {
   "cell_type": "code",
   "execution_count": 6,
   "id": "4d852caa-b658-4372-b885-e10c829f4c8c",
   "metadata": {
    "tags": []
   },
   "outputs": [
    {
     "data": {
      "text/plain": [
       "Mood disorder                         266\n",
       "Addictive disorder                    186\n",
       "Trauma and stress related disorder    128\n",
       "Schizophrenia                         117\n",
       "Anxiety disorder                      107\n",
       "Healthy control                        95\n",
       "Obsessive compulsive disorder          46\n",
       "Name: main.disorder, dtype: int64"
      ]
     },
     "execution_count": 6,
     "metadata": {},
     "output_type": "execute_result"
    }
   ],
   "source": [
    "data['main.disorder'].value_counts()"
   ]
  },
  {
   "cell_type": "markdown",
   "id": "45c01820-30ec-42cd-8a8b-76e4d67e1e72",
   "metadata": {},
   "source": [
    "The data is unbalanced, so let's deal with that later."
   ]
  },
  {
   "cell_type": "markdown",
   "id": "853cc548-1d33-4545-ae6e-c6a5992db972",
   "metadata": {},
   "source": [
    "## Data cleaning"
   ]
  },
  {
   "cell_type": "markdown",
   "id": "2df251d2-79c8-4ce2-a13c-66ee0cdfef05",
   "metadata": {},
   "source": [
    "There are features we are not going to need, sex is a categorical feature, and there are some NaN values. Let's fix that."
   ]
  },
  {
   "cell_type": "code",
   "execution_count": 7,
   "id": "6c2b843d-4c82-45b4-8488-b8cd46cda2df",
   "metadata": {},
   "outputs": [],
   "source": [
    "# create dummies for sex\n",
    "dummy = pd.get_dummies(data['sex'])\n",
    "dummy.rename(columns={'F':'sex.female', 'M':'sex.male'}, inplace=True)\n",
    "data = pd.concat([data, dummy], axis=1)"
   ]
  },
  {
   "cell_type": "code",
   "execution_count": 8,
   "id": "718b0c01-6c66-45ff-b26c-8721e1472bfa",
   "metadata": {},
   "outputs": [],
   "source": [
    "# get target variable\n",
    "y = data['main.disorder'].values\n",
    "label_encoder = LabelEncoder()\n",
    "y_encoded = label_encoder.fit_transform(y)"
   ]
  },
  {
   "cell_type": "code",
   "execution_count": 9,
   "id": "e240ad97-58f1-44da-a75e-51ee7ba20615",
   "metadata": {},
   "outputs": [
    {
     "data": {
      "text/plain": [
       "Index(['education', 'IQ', 'Unnamed: 122'], dtype='object')"
      ]
     },
     "execution_count": 9,
     "metadata": {},
     "output_type": "execute_result"
    }
   ],
   "source": [
    "data.columns[data.isna().any()]\n",
    "# the following columns have NaNs\n",
    "# so we will drop them"
   ]
  },
  {
   "cell_type": "code",
   "execution_count": 10,
   "id": "0f4585bb-2f21-4d65-885a-f73dcc6dea44",
   "metadata": {},
   "outputs": [],
   "source": [
    "# drop unnecessary columns\n",
    "data.drop(['sex', 'eeg.date', 'education', 'main.disorder', 'IQ', 'age', \n",
    "           'specific.disorder', 'Unnamed: 122'], axis=1, inplace = True)"
   ]
  },
  {
   "cell_type": "code",
   "execution_count": 11,
   "id": "cb8cdea7-972b-4480-bfac-2f2899bcdd5b",
   "metadata": {},
   "outputs": [
    {
     "data": {
      "text/html": [
       "<div>\n",
       "<style scoped>\n",
       "    .dataframe tbody tr th:only-of-type {\n",
       "        vertical-align: middle;\n",
       "    }\n",
       "\n",
       "    .dataframe tbody tr th {\n",
       "        vertical-align: top;\n",
       "    }\n",
       "\n",
       "    .dataframe thead th {\n",
       "        text-align: right;\n",
       "    }\n",
       "</style>\n",
       "<table border=\"1\" class=\"dataframe\">\n",
       "  <thead>\n",
       "    <tr style=\"text-align: right;\">\n",
       "      <th></th>\n",
       "      <th>AB.A.delta.a.FP1</th>\n",
       "      <th>AB.A.delta.b.FP2</th>\n",
       "      <th>AB.A.delta.c.F7</th>\n",
       "      <th>AB.A.delta.d.F3</th>\n",
       "      <th>AB.A.delta.e.Fz</th>\n",
       "      <th>AB.A.delta.f.F4</th>\n",
       "      <th>AB.A.delta.g.F8</th>\n",
       "      <th>AB.A.delta.h.T3</th>\n",
       "      <th>AB.A.delta.i.C3</th>\n",
       "      <th>AB.A.delta.j.Cz</th>\n",
       "      <th>...</th>\n",
       "      <th>COH.F.gamma.o.Pz.r.O1</th>\n",
       "      <th>COH.F.gamma.o.Pz.s.O2</th>\n",
       "      <th>COH.F.gamma.p.P4.q.T6</th>\n",
       "      <th>COH.F.gamma.p.P4.r.O1</th>\n",
       "      <th>COH.F.gamma.p.P4.s.O2</th>\n",
       "      <th>COH.F.gamma.q.T6.r.O1</th>\n",
       "      <th>COH.F.gamma.q.T6.s.O2</th>\n",
       "      <th>COH.F.gamma.r.O1.s.O2</th>\n",
       "      <th>sex.female</th>\n",
       "      <th>sex.male</th>\n",
       "    </tr>\n",
       "  </thead>\n",
       "  <tbody>\n",
       "    <tr>\n",
       "      <th>count</th>\n",
       "      <td>945.000000</td>\n",
       "      <td>945.000000</td>\n",
       "      <td>945.000000</td>\n",
       "      <td>945.000000</td>\n",
       "      <td>945.000000</td>\n",
       "      <td>945.000000</td>\n",
       "      <td>945.000000</td>\n",
       "      <td>945.000000</td>\n",
       "      <td>945.000000</td>\n",
       "      <td>945.000000</td>\n",
       "      <td>...</td>\n",
       "      <td>945.000000</td>\n",
       "      <td>945.000000</td>\n",
       "      <td>945.000000</td>\n",
       "      <td>945.000000</td>\n",
       "      <td>945.000000</td>\n",
       "      <td>945.000000</td>\n",
       "      <td>945.000000</td>\n",
       "      <td>945.000000</td>\n",
       "      <td>945.000000</td>\n",
       "      <td>945.000000</td>\n",
       "    </tr>\n",
       "    <tr>\n",
       "      <th>mean</th>\n",
       "      <td>20.182936</td>\n",
       "      <td>21.177584</td>\n",
       "      <td>17.749553</td>\n",
       "      <td>18.901698</td>\n",
       "      <td>20.447079</td>\n",
       "      <td>19.490329</td>\n",
       "      <td>17.042218</td>\n",
       "      <td>11.790176</td>\n",
       "      <td>16.405732</td>\n",
       "      <td>19.566879</td>\n",
       "      <td>...</td>\n",
       "      <td>56.959796</td>\n",
       "      <td>60.739169</td>\n",
       "      <td>69.829254</td>\n",
       "      <td>47.862489</td>\n",
       "      <td>66.832798</td>\n",
       "      <td>39.301406</td>\n",
       "      <td>66.153213</td>\n",
       "      <td>57.056207</td>\n",
       "      <td>0.364021</td>\n",
       "      <td>0.635979</td>\n",
       "    </tr>\n",
       "    <tr>\n",
       "      <th>std</th>\n",
       "      <td>11.282022</td>\n",
       "      <td>12.230662</td>\n",
       "      <td>10.003598</td>\n",
       "      <td>9.079482</td>\n",
       "      <td>9.742912</td>\n",
       "      <td>9.252500</td>\n",
       "      <td>9.272096</td>\n",
       "      <td>7.347929</td>\n",
       "      <td>8.246200</td>\n",
       "      <td>9.525142</td>\n",
       "      <td>...</td>\n",
       "      <td>18.326785</td>\n",
       "      <td>18.052887</td>\n",
       "      <td>17.725321</td>\n",
       "      <td>19.685722</td>\n",
       "      <td>17.028701</td>\n",
       "      <td>20.790933</td>\n",
       "      <td>18.088548</td>\n",
       "      <td>19.600107</td>\n",
       "      <td>0.481409</td>\n",
       "      <td>0.481409</td>\n",
       "    </tr>\n",
       "    <tr>\n",
       "      <th>min</th>\n",
       "      <td>3.272260</td>\n",
       "      <td>3.244199</td>\n",
       "      <td>3.050507</td>\n",
       "      <td>3.412618</td>\n",
       "      <td>5.066593</td>\n",
       "      <td>4.048931</td>\n",
       "      <td>2.552213</td>\n",
       "      <td>2.128977</td>\n",
       "      <td>2.213470</td>\n",
       "      <td>3.149313</td>\n",
       "      <td>...</td>\n",
       "      <td>6.926792</td>\n",
       "      <td>0.708008</td>\n",
       "      <td>2.421748</td>\n",
       "      <td>0.036664</td>\n",
       "      <td>1.032207</td>\n",
       "      <td>1.228502</td>\n",
       "      <td>0.363268</td>\n",
       "      <td>3.988805</td>\n",
       "      <td>0.000000</td>\n",
       "      <td>0.000000</td>\n",
       "    </tr>\n",
       "    <tr>\n",
       "      <th>25%</th>\n",
       "      <td>12.784872</td>\n",
       "      <td>13.019269</td>\n",
       "      <td>11.134327</td>\n",
       "      <td>12.460586</td>\n",
       "      <td>13.548645</td>\n",
       "      <td>12.637717</td>\n",
       "      <td>10.381770</td>\n",
       "      <td>7.042545</td>\n",
       "      <td>10.686639</td>\n",
       "      <td>13.130418</td>\n",
       "      <td>...</td>\n",
       "      <td>43.682444</td>\n",
       "      <td>48.374883</td>\n",
       "      <td>58.937785</td>\n",
       "      <td>32.581046</td>\n",
       "      <td>55.872070</td>\n",
       "      <td>22.049743</td>\n",
       "      <td>54.710605</td>\n",
       "      <td>43.955229</td>\n",
       "      <td>0.000000</td>\n",
       "      <td>0.000000</td>\n",
       "    </tr>\n",
       "    <tr>\n",
       "      <th>50%</th>\n",
       "      <td>17.065286</td>\n",
       "      <td>17.838251</td>\n",
       "      <td>15.541469</td>\n",
       "      <td>16.733004</td>\n",
       "      <td>18.065276</td>\n",
       "      <td>17.432568</td>\n",
       "      <td>15.050377</td>\n",
       "      <td>10.044354</td>\n",
       "      <td>14.525494</td>\n",
       "      <td>17.245633</td>\n",
       "      <td>...</td>\n",
       "      <td>56.657348</td>\n",
       "      <td>61.257972</td>\n",
       "      <td>72.298636</td>\n",
       "      <td>45.719426</td>\n",
       "      <td>68.238375</td>\n",
       "      <td>36.549938</td>\n",
       "      <td>67.988937</td>\n",
       "      <td>57.515871</td>\n",
       "      <td>0.000000</td>\n",
       "      <td>1.000000</td>\n",
       "    </tr>\n",
       "    <tr>\n",
       "      <th>75%</th>\n",
       "      <td>24.492760</td>\n",
       "      <td>25.654394</td>\n",
       "      <td>21.623961</td>\n",
       "      <td>23.347900</td>\n",
       "      <td>25.573096</td>\n",
       "      <td>23.956748</td>\n",
       "      <td>20.810308</td>\n",
       "      <td>14.246874</td>\n",
       "      <td>20.271380</td>\n",
       "      <td>23.792159</td>\n",
       "      <td>...</td>\n",
       "      <td>70.649245</td>\n",
       "      <td>73.979100</td>\n",
       "      <td>83.066877</td>\n",
       "      <td>62.081839</td>\n",
       "      <td>79.192418</td>\n",
       "      <td>54.169209</td>\n",
       "      <td>79.527764</td>\n",
       "      <td>71.626382</td>\n",
       "      <td>1.000000</td>\n",
       "      <td>1.000000</td>\n",
       "    </tr>\n",
       "    <tr>\n",
       "      <th>max</th>\n",
       "      <td>92.826192</td>\n",
       "      <td>101.515687</td>\n",
       "      <td>91.373456</td>\n",
       "      <td>82.544167</td>\n",
       "      <td>101.566662</td>\n",
       "      <td>77.197502</td>\n",
       "      <td>69.071230</td>\n",
       "      <td>77.283412</td>\n",
       "      <td>65.932521</td>\n",
       "      <td>88.474026</td>\n",
       "      <td>...</td>\n",
       "      <td>99.307895</td>\n",
       "      <td>100.000000</td>\n",
       "      <td>99.581629</td>\n",
       "      <td>98.720067</td>\n",
       "      <td>99.650154</td>\n",
       "      <td>98.413320</td>\n",
       "      <td>100.000000</td>\n",
       "      <td>99.287092</td>\n",
       "      <td>1.000000</td>\n",
       "      <td>1.000000</td>\n",
       "    </tr>\n",
       "  </tbody>\n",
       "</table>\n",
       "<p>8 rows × 1142 columns</p>\n",
       "</div>"
      ],
      "text/plain": [
       "       AB.A.delta.a.FP1  AB.A.delta.b.FP2  AB.A.delta.c.F7  AB.A.delta.d.F3  \\\n",
       "count        945.000000        945.000000       945.000000       945.000000   \n",
       "mean          20.182936         21.177584        17.749553        18.901698   \n",
       "std           11.282022         12.230662        10.003598         9.079482   \n",
       "min            3.272260          3.244199         3.050507         3.412618   \n",
       "25%           12.784872         13.019269        11.134327        12.460586   \n",
       "50%           17.065286         17.838251        15.541469        16.733004   \n",
       "75%           24.492760         25.654394        21.623961        23.347900   \n",
       "max           92.826192        101.515687        91.373456        82.544167   \n",
       "\n",
       "       AB.A.delta.e.Fz  AB.A.delta.f.F4  AB.A.delta.g.F8  AB.A.delta.h.T3  \\\n",
       "count       945.000000       945.000000       945.000000       945.000000   \n",
       "mean         20.447079        19.490329        17.042218        11.790176   \n",
       "std           9.742912         9.252500         9.272096         7.347929   \n",
       "min           5.066593         4.048931         2.552213         2.128977   \n",
       "25%          13.548645        12.637717        10.381770         7.042545   \n",
       "50%          18.065276        17.432568        15.050377        10.044354   \n",
       "75%          25.573096        23.956748        20.810308        14.246874   \n",
       "max         101.566662        77.197502        69.071230        77.283412   \n",
       "\n",
       "       AB.A.delta.i.C3  AB.A.delta.j.Cz  ...  COH.F.gamma.o.Pz.r.O1  \\\n",
       "count       945.000000       945.000000  ...             945.000000   \n",
       "mean         16.405732        19.566879  ...              56.959796   \n",
       "std           8.246200         9.525142  ...              18.326785   \n",
       "min           2.213470         3.149313  ...               6.926792   \n",
       "25%          10.686639        13.130418  ...              43.682444   \n",
       "50%          14.525494        17.245633  ...              56.657348   \n",
       "75%          20.271380        23.792159  ...              70.649245   \n",
       "max          65.932521        88.474026  ...              99.307895   \n",
       "\n",
       "       COH.F.gamma.o.Pz.s.O2  COH.F.gamma.p.P4.q.T6  COH.F.gamma.p.P4.r.O1  \\\n",
       "count             945.000000             945.000000             945.000000   \n",
       "mean               60.739169              69.829254              47.862489   \n",
       "std                18.052887              17.725321              19.685722   \n",
       "min                 0.708008               2.421748               0.036664   \n",
       "25%                48.374883              58.937785              32.581046   \n",
       "50%                61.257972              72.298636              45.719426   \n",
       "75%                73.979100              83.066877              62.081839   \n",
       "max               100.000000              99.581629              98.720067   \n",
       "\n",
       "       COH.F.gamma.p.P4.s.O2  COH.F.gamma.q.T6.r.O1  COH.F.gamma.q.T6.s.O2  \\\n",
       "count             945.000000             945.000000             945.000000   \n",
       "mean               66.832798              39.301406              66.153213   \n",
       "std                17.028701              20.790933              18.088548   \n",
       "min                 1.032207               1.228502               0.363268   \n",
       "25%                55.872070              22.049743              54.710605   \n",
       "50%                68.238375              36.549938              67.988937   \n",
       "75%                79.192418              54.169209              79.527764   \n",
       "max                99.650154              98.413320             100.000000   \n",
       "\n",
       "       COH.F.gamma.r.O1.s.O2  sex.female    sex.male  \n",
       "count             945.000000  945.000000  945.000000  \n",
       "mean               57.056207    0.364021    0.635979  \n",
       "std                19.600107    0.481409    0.481409  \n",
       "min                 3.988805    0.000000    0.000000  \n",
       "25%                43.955229    0.000000    0.000000  \n",
       "50%                57.515871    0.000000    1.000000  \n",
       "75%                71.626382    1.000000    1.000000  \n",
       "max                99.287092    1.000000    1.000000  \n",
       "\n",
       "[8 rows x 1142 columns]"
      ]
     },
     "execution_count": 11,
     "metadata": {},
     "output_type": "execute_result"
    }
   ],
   "source": [
    "data.describe()"
   ]
  },
  {
   "cell_type": "markdown",
   "id": "8506e70a-083d-46db-92bf-fd8a07b07175",
   "metadata": {},
   "source": [
    "Normalize the data"
   ]
  },
  {
   "cell_type": "code",
   "execution_count": 12,
   "id": "20f2af46-4a60-4cdc-b4c2-168347f71b06",
   "metadata": {},
   "outputs": [],
   "source": [
    "scaler = StandardScaler()\n",
    "data_std = scaler.fit_transform(data)"
   ]
  },
  {
   "cell_type": "markdown",
   "id": "ba5563a3-3c61-445c-ac15-4e0066d6e126",
   "metadata": {},
   "source": [
    "## Balancing"
   ]
  },
  {
   "cell_type": "markdown",
   "id": "fc604f25-c167-4f8f-8f0d-f8ef3e035b09",
   "metadata": {
    "tags": []
   },
   "source": [
    "Since I don't want to use undersampling nor use techniques that are too complex for the course, I will try to use oversampling by dupication with class weights"
   ]
  },
  {
   "cell_type": "code",
   "execution_count": 13,
   "id": "91b1836f-37be-4da5-8cfd-5168bf0618ad",
   "metadata": {},
   "outputs": [
    {
     "data": {
      "text/plain": [
       "array([0.72580645, 1.26168224, 1.42105263, 0.5075188 , 2.93478261,\n",
       "       1.15384615, 1.0546875 ])"
      ]
     },
     "execution_count": 13,
     "metadata": {},
     "output_type": "execute_result"
    }
   ],
   "source": [
    "# get class weights\n",
    "class_weights = compute_class_weight(class_weight='balanced', classes=np.unique(y_encoded), y=y_encoded)\n",
    "class_weights"
   ]
  },
  {
   "cell_type": "code",
   "execution_count": 14,
   "id": "87e9c663-c121-4bec-9f71-f82e4d5e31df",
   "metadata": {},
   "outputs": [
    {
     "data": {
      "text/plain": [
       "(945, 1142)"
      ]
     },
     "execution_count": 14,
     "metadata": {},
     "output_type": "execute_result"
    }
   ],
   "source": [
    "# get our X\n",
    "X = data_std\n",
    "X.shape"
   ]
  },
  {
   "cell_type": "code",
   "execution_count": 92,
   "id": "fa6c9203-c6a8-4a0a-8883-85fee5190b33",
   "metadata": {},
   "outputs": [],
   "source": [
    "# duplicate samples according to the weight of their label\n",
    "\n",
    "X_weighted = []\n",
    "y_weighted = []\n",
    "for i, class_weight in enumerate(class_weights):\n",
    "    samples_in_class = X[y_encoded == i]\n",
    "    replicated_samples = np.repeat(samples_in_class, int(class_weight), axis=0)\n",
    "    X_weighted.append(replicated_samples)\n",
    "    y_weighted.append(np.repeat(i, replicated_samples.shape[0]))\n",
    "\n",
    "X_weighted = np.concatenate(X_weighted, axis=0)\n",
    "y_weighted = np.concatenate(y_weighted, axis=0)\n",
    "\n",
    "X_combined = np.concatenate([X_weighted, X], axis=0)\n",
    "y_combined = np.concatenate([y_weighted, y_encoded], axis=0)"
   ]
  },
  {
   "cell_type": "code",
   "execution_count": 93,
   "id": "ac097563-1bc8-4776-9330-3d87985b0b85",
   "metadata": {},
   "outputs": [
    {
     "data": {
      "text/plain": [
       "(1484, 1142)"
      ]
     },
     "execution_count": 93,
     "metadata": {},
     "output_type": "execute_result"
    }
   ],
   "source": [
    "X_combined.shape"
   ]
  },
  {
   "cell_type": "code",
   "execution_count": 94,
   "id": "ecb7d223-db42-4764-a71b-ecd33df2c591",
   "metadata": {},
   "outputs": [
    {
     "data": {
      "text/plain": [
       "3    266\n",
       "6    256\n",
       "5    234\n",
       "1    214\n",
       "2    190\n",
       "0    186\n",
       "4    138\n",
       "dtype: int64"
      ]
     },
     "execution_count": 94,
     "metadata": {},
     "output_type": "execute_result"
    }
   ],
   "source": [
    "# check the value counts of duplicated labels\n",
    "y_balanced = pd.Series(y_combined) \n",
    "\n",
    "value_counts = y_balanced.value_counts()\n",
    "value_counts"
   ]
  },
  {
   "cell_type": "markdown",
   "id": "017877f1-b503-445c-a266-8c4fc3b7a63c",
   "metadata": {},
   "source": [
    "It looks better, let's proceed with splitting the data"
   ]
  },
  {
   "cell_type": "code",
   "execution_count": 95,
   "id": "384a06d5-4e5a-4564-97b7-c8711db73d7f",
   "metadata": {},
   "outputs": [],
   "source": [
    "feat_labels = data.columns.values.tolist()"
   ]
  },
  {
   "cell_type": "code",
   "execution_count": 148,
   "id": "de17756a-94b2-4047-87e3-9f5b5443395d",
   "metadata": {},
   "outputs": [],
   "source": [
    "# split into 70% training, 15% validation and 15% test\n",
    "\n",
    "X_train, X_test, y_train, y_test = train_test_split(X_combined, y_combined, test_size=0.3, random_state=0)\n",
    "X_valid, X_test, y_valid, y_test = train_test_split(X_test, y_test, test_size=0.5, random_state=0)"
   ]
  },
  {
   "cell_type": "code",
   "execution_count": 149,
   "id": "cdd2f6a0-0a09-4006-8077-ae97d1e38f45",
   "metadata": {},
   "outputs": [
    {
     "name": "stdout",
     "output_type": "stream",
     "text": [
      "(1038, 1142) (223, 1142) (223, 1142)\n",
      "(1038,) (223,) (223,)\n"
     ]
    }
   ],
   "source": [
    "print(X_train.shape, X_valid.shape, X_test.shape)\n",
    "print(y_train.shape, y_valid.shape, y_test.shape)"
   ]
  },
  {
   "cell_type": "markdown",
   "id": "64e57433-1474-46ba-bc3b-f0a6d3b195aa",
   "metadata": {},
   "source": [
    "## Choosing models to test"
   ]
  },
  {
   "cell_type": "markdown",
   "id": "7931c2ed-7aa1-42c9-94ea-56da464b599d",
   "metadata": {},
   "source": [
    "As we have a multiclass classification problem, we can use supervised models such as KNN, Naive Bayes, SVM, linear SVC, Random Forest, Logistic Regression and SGD. "
   ]
  },
  {
   "cell_type": "code",
   "execution_count": 166,
   "id": "eb60b36f-2f62-4a3e-be71-124f6912be79",
   "metadata": {},
   "outputs": [
    {
     "name": "stdout",
     "output_type": "stream",
     "text": [
      "Data does not look normally distributed (reject H0)\n"
     ]
    }
   ],
   "source": [
    "statistic, p_value = shapiro(data)\n",
    "\n",
    "# interpret the p-value\n",
    "alpha = 0.05\n",
    "if p_value > alpha:\n",
    "    print(\"Data looks normally distributed (fail to reject H0)\")\n",
    "else:\n",
    "    print(\"Data does not look normally distributed (reject H0)\")"
   ]
  },
  {
   "cell_type": "markdown",
   "id": "c10c1051-6631-4b41-836c-bc40f499128e",
   "metadata": {},
   "source": [
    "Apparently data doesn't follow the normal distribution so we couldn't use GaussianNB. However, since we have negative values, we can't use other NBs, so let's try GaussianNB anyway.\n",
    "\n",
    "Additionally, let's all the other models!"
   ]
  },
  {
   "cell_type": "code",
   "execution_count": 36,
   "id": "89a67830-54d8-4bf8-9dc4-b63d8417ac6d",
   "metadata": {},
   "outputs": [],
   "source": [
    "models_df = pd.DataFrame(columns =['Accuracy', 'F1-score'])"
   ]
  },
  {
   "cell_type": "markdown",
   "id": "1b93a499-d04f-40e1-b82e-a7f4a70abeb1",
   "metadata": {},
   "source": [
    "# Training models"
   ]
  },
  {
   "cell_type": "markdown",
   "id": "47b66835-935f-4074-9ebd-2ce93068d3d9",
   "metadata": {
    "tags": []
   },
   "source": [
    "## Random Forest"
   ]
  },
  {
   "cell_type": "code",
   "execution_count": 21,
   "id": "f5dc5d39-55b4-43d1-a130-de18e5f6cf94",
   "metadata": {},
   "outputs": [],
   "source": [
    "n_estimators = [100, 1000, 10000]\n",
    "criterion = ['gini', 'entropy']\n",
    "max_depth = [3, 5, 10, None]\n",
    "min_samples_split = [2, 5, 10]\n",
    "max_features = ['auto', 'sqrt', 'log2']\n",
    "bootstrap = [True, False] "
   ]
  },
  {
   "cell_type": "code",
   "execution_count": 22,
   "id": "5df3524f-b153-429e-8dbd-f9c2e69bda5f",
   "metadata": {},
   "outputs": [],
   "source": [
    "randomforest_df = pd.DataFrame(columns = ['n_estimators', 'criterion', 'max_depth', 'min_samples_split', 'max_features', 'bootstrap', 'accuracy', 'f1_score'])"
   ]
  },
  {
   "cell_type": "markdown",
   "id": "891f06ae-c219-44fb-acc6-bcf0443e1f3e",
   "metadata": {},
   "source": [
    "<font size=\"5\">That took more than 6 hours to run! We might not want to run it again</font>"
   ]
  },
  {
   "cell_type": "code",
   "execution_count": 23,
   "id": "12569561-b0f0-452e-9fd1-f8e886fca8ef",
   "metadata": {},
   "outputs": [],
   "source": [
    "n_samples = 0\n",
    "for n_estim in n_estimators:\n",
    "    for crit in criterion:\n",
    "        for depth in max_depth:\n",
    "            for min_samples in min_samples_split:\n",
    "                for max_feat in max_features:\n",
    "                    for bs in bootstrap:\n",
    "                        \n",
    "                        forest = RandomForestClassifier(n_estimators=n_estim, max_depth=depth,\n",
    "                                                       criterion=crit, min_samples_split=min_samples,\n",
    "                                                       max_features=max_feat, bootstrap=bs)\n",
    "                        forest.fit(X_train, y_train)\n",
    "\n",
    "                        y_pred = forest.predict(X_valid)\n",
    "\n",
    "                        acc = accuracy_score(y_valid, y_pred)\n",
    "\n",
    "                        f1 = f1_score(y_valid, y_pred, average='weighted')\n",
    "\n",
    "                        row = [n_estim, crit, depth, min_samples, max_feat, bs, acc, f1]\n",
    "\n",
    "                        randomforest_df.loc[n_samples] = row\n",
    "\n",
    "                        n_samples+=1"
   ]
  },
  {
   "cell_type": "code",
   "execution_count": 26,
   "id": "e8d2ca82-bd70-4468-ac79-fdea1d67f90c",
   "metadata": {},
   "outputs": [
    {
     "data": {
      "text/html": [
       "<div>\n",
       "<style scoped>\n",
       "    .dataframe tbody tr th:only-of-type {\n",
       "        vertical-align: middle;\n",
       "    }\n",
       "\n",
       "    .dataframe tbody tr th {\n",
       "        vertical-align: top;\n",
       "    }\n",
       "\n",
       "    .dataframe thead th {\n",
       "        text-align: right;\n",
       "    }\n",
       "</style>\n",
       "<table border=\"1\" class=\"dataframe\">\n",
       "  <thead>\n",
       "    <tr style=\"text-align: right;\">\n",
       "      <th></th>\n",
       "      <th>n_estimators</th>\n",
       "      <th>criterion</th>\n",
       "      <th>max_depth</th>\n",
       "      <th>min_samples_split</th>\n",
       "      <th>max_features</th>\n",
       "      <th>bootstrap</th>\n",
       "      <th>accuracy</th>\n",
       "      <th>f1_score</th>\n",
       "    </tr>\n",
       "  </thead>\n",
       "  <tbody>\n",
       "    <tr>\n",
       "      <th>421</th>\n",
       "      <td>10000</td>\n",
       "      <td>entropy</td>\n",
       "      <td>None</td>\n",
       "      <td>5</td>\n",
       "      <td>auto</td>\n",
       "      <td>False</td>\n",
       "      <td>0.695067</td>\n",
       "      <td>0.698314</td>\n",
       "    </tr>\n",
       "    <tr>\n",
       "      <th>63</th>\n",
       "      <td>100</td>\n",
       "      <td>gini</td>\n",
       "      <td>None</td>\n",
       "      <td>5</td>\n",
       "      <td>sqrt</td>\n",
       "      <td>False</td>\n",
       "      <td>0.681614</td>\n",
       "      <td>0.694154</td>\n",
       "    </tr>\n",
       "    <tr>\n",
       "      <th>271</th>\n",
       "      <td>1000</td>\n",
       "      <td>entropy</td>\n",
       "      <td>None</td>\n",
       "      <td>2</td>\n",
       "      <td>auto</td>\n",
       "      <td>False</td>\n",
       "      <td>0.677130</td>\n",
       "      <td>0.693482</td>\n",
       "    </tr>\n",
       "    <tr>\n",
       "      <th>141</th>\n",
       "      <td>100</td>\n",
       "      <td>entropy</td>\n",
       "      <td>None</td>\n",
       "      <td>10</td>\n",
       "      <td>sqrt</td>\n",
       "      <td>False</td>\n",
       "      <td>0.686099</td>\n",
       "      <td>0.692269</td>\n",
       "    </tr>\n",
       "    <tr>\n",
       "      <th>415</th>\n",
       "      <td>10000</td>\n",
       "      <td>entropy</td>\n",
       "      <td>None</td>\n",
       "      <td>2</td>\n",
       "      <td>auto</td>\n",
       "      <td>False</td>\n",
       "      <td>0.681614</td>\n",
       "      <td>0.689099</td>\n",
       "    </tr>\n",
       "  </tbody>\n",
       "</table>\n",
       "</div>"
      ],
      "text/plain": [
       "     n_estimators criterion max_depth  min_samples_split max_features  \\\n",
       "421         10000   entropy      None                  5         auto   \n",
       "63            100      gini      None                  5         sqrt   \n",
       "271          1000   entropy      None                  2         auto   \n",
       "141           100   entropy      None                 10         sqrt   \n",
       "415         10000   entropy      None                  2         auto   \n",
       "\n",
       "     bootstrap  accuracy  f1_score  \n",
       "421      False  0.695067  0.698314  \n",
       "63       False  0.681614  0.694154  \n",
       "271      False  0.677130  0.693482  \n",
       "141      False  0.686099  0.692269  \n",
       "415      False  0.681614  0.689099  "
      ]
     },
     "execution_count": 26,
     "metadata": {},
     "output_type": "execute_result"
    }
   ],
   "source": [
    "randomforest_df.sort_values(\"f1_score\", ascending=False, inplace=True)\n",
    "randomforest_df.head()"
   ]
  },
  {
   "cell_type": "code",
   "execution_count": 27,
   "id": "ecf3dba3-592f-4231-8629-306f8d357ade",
   "metadata": {},
   "outputs": [],
   "source": [
    "randomforest_df.to_csv('randomforest_df', header=True, index=True)"
   ]
  },
  {
   "cell_type": "code",
   "execution_count": 28,
   "id": "b36984d4-40af-4d56-b73f-e3bd9e5aae0b",
   "metadata": {},
   "outputs": [
    {
     "data": {
      "text/plain": [
       "n_estimators            10000\n",
       "criterion             entropy\n",
       "max_depth                None\n",
       "min_samples_split           5\n",
       "max_features             auto\n",
       "bootstrap               False\n",
       "accuracy             0.695067\n",
       "f1_score             0.698314\n",
       "Name: 421, dtype: object"
      ]
     },
     "execution_count": 28,
     "metadata": {},
     "output_type": "execute_result"
    }
   ],
   "source": [
    "best = randomforest_df.iloc[0,:]\n",
    "best"
   ]
  },
  {
   "cell_type": "code",
   "execution_count": 29,
   "id": "8deecf75-8f5a-4fbf-8185-43a9eb5e4d23",
   "metadata": {},
   "outputs": [],
   "source": [
    "forest = RandomForestClassifier(n_estimators=best.n_estimators, max_depth=best.max_depth,\n",
    "                                criterion=best.criterion, min_samples_split=best.min_samples_split)"
   ]
  },
  {
   "cell_type": "code",
   "execution_count": 30,
   "id": "680f6bb8-6f74-450f-862b-87f94079e702",
   "metadata": {},
   "outputs": [
    {
     "data": {
      "text/plain": [
       "RandomForestClassifier(criterion='entropy', min_samples_split=5,\n",
       "                       n_estimators=10000)"
      ]
     },
     "execution_count": 30,
     "metadata": {},
     "output_type": "execute_result"
    }
   ],
   "source": [
    "forest.fit(X_train, y_train)"
   ]
  },
  {
   "cell_type": "code",
   "execution_count": 31,
   "id": "b98e32e4-a604-4b7c-8139-6de674236edb",
   "metadata": {},
   "outputs": [],
   "source": [
    "y_pred = forest.predict(X_test)"
   ]
  },
  {
   "cell_type": "code",
   "execution_count": 32,
   "id": "2f2dbf86-7026-4a36-9620-473ce5e74747",
   "metadata": {},
   "outputs": [
    {
     "data": {
      "text/plain": [
       "0.67"
      ]
     },
     "execution_count": 32,
     "metadata": {},
     "output_type": "execute_result"
    }
   ],
   "source": [
    "f1_rf = round(f1_score(y_test, y_pred, average='weighted'), 2)\n",
    "f1_rf"
   ]
  },
  {
   "cell_type": "code",
   "execution_count": 33,
   "id": "1febf5e9-30e4-411e-a01e-120b93d5fe8d",
   "metadata": {},
   "outputs": [
    {
     "data": {
      "text/plain": [
       "0.68"
      ]
     },
     "execution_count": 33,
     "metadata": {},
     "output_type": "execute_result"
    }
   ],
   "source": [
    "acc_rf = round(accuracy_score(y_test, y_pred), 2)\n",
    "acc_rf"
   ]
  },
  {
   "cell_type": "code",
   "execution_count": 38,
   "id": "3c7b6db2-a172-4985-9280-3ad01cac9ea3",
   "metadata": {},
   "outputs": [],
   "source": [
    "models_df.loc['Random forest'] = [f1_rf, acc_rf]"
   ]
  },
  {
   "cell_type": "markdown",
   "id": "581d81e6-4dfa-4fa6-ac4c-2086a4291366",
   "metadata": {},
   "source": [
    "## KNN"
   ]
  },
  {
   "cell_type": "code",
   "execution_count": 40,
   "id": "34ee2c28-a652-4c1d-8a09-3de7af8be262",
   "metadata": {},
   "outputs": [],
   "source": [
    "neighbors = [3,5,7,9]\n",
    "weights = ['uniform', 'distance']"
   ]
  },
  {
   "cell_type": "code",
   "execution_count": 41,
   "id": "104d9f8a-496e-4281-b4eb-30635475d979",
   "metadata": {},
   "outputs": [],
   "source": [
    "knn_df = pd.DataFrame(columns = ['neighbors', 'weights', 'accuracy', 'f1_score'])"
   ]
  },
  {
   "cell_type": "code",
   "execution_count": 42,
   "id": "3d1ab291-293b-4f3f-8bf8-3e3c5993d824",
   "metadata": {},
   "outputs": [],
   "source": [
    "n_samples = 0\n",
    "\n",
    "for k in neighbors:\n",
    "    for w in weights:\n",
    "        knn = KNeighborsClassifier(n_neighbors=k, weights=w)\n",
    "        knn.fit(X_train, y_train)\n",
    "        \n",
    "        y_pred = knn.predict(X_valid)\n",
    "                \n",
    "        acc = accuracy_score(y_valid, y_pred)\n",
    "\n",
    "        f1 = f1_score(y_valid, y_pred, average='weighted')\n",
    "                \n",
    "        row = [k, w, acc, f1]\n",
    "                \n",
    "        knn_df.loc[n_samples] = row\n",
    "                \n",
    "        n_samples+=1"
   ]
  },
  {
   "cell_type": "code",
   "execution_count": 43,
   "id": "947ab7df-c232-4757-9d64-747297c9a454",
   "metadata": {},
   "outputs": [
    {
     "data": {
      "text/html": [
       "<div>\n",
       "<style scoped>\n",
       "    .dataframe tbody tr th:only-of-type {\n",
       "        vertical-align: middle;\n",
       "    }\n",
       "\n",
       "    .dataframe tbody tr th {\n",
       "        vertical-align: top;\n",
       "    }\n",
       "\n",
       "    .dataframe thead th {\n",
       "        text-align: right;\n",
       "    }\n",
       "</style>\n",
       "<table border=\"1\" class=\"dataframe\">\n",
       "  <thead>\n",
       "    <tr style=\"text-align: right;\">\n",
       "      <th></th>\n",
       "      <th>neighbors</th>\n",
       "      <th>weights</th>\n",
       "      <th>accuracy</th>\n",
       "      <th>f1_score</th>\n",
       "    </tr>\n",
       "  </thead>\n",
       "  <tbody>\n",
       "    <tr>\n",
       "      <th>5</th>\n",
       "      <td>7</td>\n",
       "      <td>distance</td>\n",
       "      <td>0.614350</td>\n",
       "      <td>0.589549</td>\n",
       "    </tr>\n",
       "    <tr>\n",
       "      <th>7</th>\n",
       "      <td>9</td>\n",
       "      <td>distance</td>\n",
       "      <td>0.605381</td>\n",
       "      <td>0.586665</td>\n",
       "    </tr>\n",
       "    <tr>\n",
       "      <th>3</th>\n",
       "      <td>5</td>\n",
       "      <td>distance</td>\n",
       "      <td>0.600897</td>\n",
       "      <td>0.575976</td>\n",
       "    </tr>\n",
       "    <tr>\n",
       "      <th>1</th>\n",
       "      <td>3</td>\n",
       "      <td>distance</td>\n",
       "      <td>0.609865</td>\n",
       "      <td>0.573856</td>\n",
       "    </tr>\n",
       "    <tr>\n",
       "      <th>0</th>\n",
       "      <td>3</td>\n",
       "      <td>uniform</td>\n",
       "      <td>0.278027</td>\n",
       "      <td>0.266264</td>\n",
       "    </tr>\n",
       "    <tr>\n",
       "      <th>6</th>\n",
       "      <td>9</td>\n",
       "      <td>uniform</td>\n",
       "      <td>0.210762</td>\n",
       "      <td>0.214906</td>\n",
       "    </tr>\n",
       "    <tr>\n",
       "      <th>4</th>\n",
       "      <td>7</td>\n",
       "      <td>uniform</td>\n",
       "      <td>0.215247</td>\n",
       "      <td>0.214190</td>\n",
       "    </tr>\n",
       "    <tr>\n",
       "      <th>2</th>\n",
       "      <td>5</td>\n",
       "      <td>uniform</td>\n",
       "      <td>0.210762</td>\n",
       "      <td>0.204735</td>\n",
       "    </tr>\n",
       "  </tbody>\n",
       "</table>\n",
       "</div>"
      ],
      "text/plain": [
       "   neighbors   weights  accuracy  f1_score\n",
       "5          7  distance  0.614350  0.589549\n",
       "7          9  distance  0.605381  0.586665\n",
       "3          5  distance  0.600897  0.575976\n",
       "1          3  distance  0.609865  0.573856\n",
       "0          3   uniform  0.278027  0.266264\n",
       "6          9   uniform  0.210762  0.214906\n",
       "4          7   uniform  0.215247  0.214190\n",
       "2          5   uniform  0.210762  0.204735"
      ]
     },
     "execution_count": 43,
     "metadata": {},
     "output_type": "execute_result"
    }
   ],
   "source": [
    "knn_df.sort_values('f1_score', ascending=False, inplace=True)\n",
    "knn_df"
   ]
  },
  {
   "cell_type": "code",
   "execution_count": 44,
   "id": "c656cbe8-59ea-4de9-9c32-7094cacffcd5",
   "metadata": {},
   "outputs": [
    {
     "data": {
      "text/plain": [
       "neighbors           7\n",
       "weights      distance\n",
       "accuracy      0.61435\n",
       "f1_score     0.589549\n",
       "Name: 5, dtype: object"
      ]
     },
     "execution_count": 44,
     "metadata": {},
     "output_type": "execute_result"
    }
   ],
   "source": [
    "best = knn_df.iloc[0,:]\n",
    "best"
   ]
  },
  {
   "cell_type": "code",
   "execution_count": 45,
   "id": "8875b222-af55-4039-99ea-6799144ce90e",
   "metadata": {},
   "outputs": [],
   "source": [
    "knn = KNeighborsClassifier(n_neighbors=best.neighbors, weights=best.weights)"
   ]
  },
  {
   "cell_type": "code",
   "execution_count": 46,
   "id": "92d9e374-f4ab-4134-9e62-1a48ec8af397",
   "metadata": {},
   "outputs": [
    {
     "data": {
      "text/plain": [
       "KNeighborsClassifier(n_neighbors=7, weights='distance')"
      ]
     },
     "execution_count": 46,
     "metadata": {},
     "output_type": "execute_result"
    }
   ],
   "source": [
    "knn.fit(X_train, y_train)"
   ]
  },
  {
   "cell_type": "code",
   "execution_count": 47,
   "id": "db59775c-0c31-4591-a2f0-f07b531ed5d5",
   "metadata": {},
   "outputs": [],
   "source": [
    "y_pred = knn.predict(X_test)"
   ]
  },
  {
   "cell_type": "code",
   "execution_count": 48,
   "id": "712e9810-dc1b-4ece-bb67-6d29b6e45f7a",
   "metadata": {},
   "outputs": [
    {
     "data": {
      "text/plain": [
       "0.58"
      ]
     },
     "execution_count": 48,
     "metadata": {},
     "output_type": "execute_result"
    }
   ],
   "source": [
    "f1_knn = round(f1_score(y_test, y_pred, average='weighted'),2)\n",
    "f1_knn"
   ]
  },
  {
   "cell_type": "code",
   "execution_count": 49,
   "id": "f528c4a3-17d3-4cf0-88b6-11f3e3efeb96",
   "metadata": {},
   "outputs": [
    {
     "data": {
      "text/plain": [
       "0.61"
      ]
     },
     "execution_count": 49,
     "metadata": {},
     "output_type": "execute_result"
    }
   ],
   "source": [
    "acc_knn = round(accuracy_score(y_test, y_pred),2)\n",
    "acc_knn"
   ]
  },
  {
   "cell_type": "code",
   "execution_count": 50,
   "id": "1bcacf0b-bde2-41df-a74d-89da1d18a56c",
   "metadata": {},
   "outputs": [],
   "source": [
    "models_df.loc['K-Nearest Neighbors'] = [f1_knn, acc_knn]"
   ]
  },
  {
   "cell_type": "markdown",
   "id": "b67e1656-3e4f-45e7-859a-21891776f5db",
   "metadata": {},
   "source": [
    "## Gaussian Naive Bayes"
   ]
  },
  {
   "cell_type": "code",
   "execution_count": 51,
   "id": "635acbd2-6d5e-4327-9531-c7c932d2cd38",
   "metadata": {},
   "outputs": [],
   "source": [
    "gnb = GaussianNB()"
   ]
  },
  {
   "cell_type": "code",
   "execution_count": 52,
   "id": "80621b8b-8c01-42a4-ae91-3e3ce0e2e80d",
   "metadata": {},
   "outputs": [
    {
     "data": {
      "text/plain": [
       "GaussianNB()"
      ]
     },
     "execution_count": 52,
     "metadata": {},
     "output_type": "execute_result"
    }
   ],
   "source": [
    "gnb.fit(X_train, y_train)"
   ]
  },
  {
   "cell_type": "code",
   "execution_count": 53,
   "id": "5858cd62-a430-4475-99ed-7932381f3d8c",
   "metadata": {},
   "outputs": [],
   "source": [
    "y_pred = gnb.predict(X_test)"
   ]
  },
  {
   "cell_type": "code",
   "execution_count": 54,
   "id": "e0e8134a-96ce-4ea7-98ad-55949eb27231",
   "metadata": {},
   "outputs": [
    {
     "data": {
      "text/plain": [
       "0.19"
      ]
     },
     "execution_count": 54,
     "metadata": {},
     "output_type": "execute_result"
    }
   ],
   "source": [
    "f1_gnb = round(f1_score(y_test, y_pred, average='weighted'),2)\n",
    "f1_gnb"
   ]
  },
  {
   "cell_type": "code",
   "execution_count": 55,
   "id": "c69cf710-f455-488d-99ae-788474b8b03f",
   "metadata": {},
   "outputs": [
    {
     "data": {
      "text/plain": [
       "0.22"
      ]
     },
     "execution_count": 55,
     "metadata": {},
     "output_type": "execute_result"
    }
   ],
   "source": [
    "acc_gnb = round(accuracy_score(y_test, y_pred),2)\n",
    "acc_gnb"
   ]
  },
  {
   "cell_type": "markdown",
   "id": "a2c7a74a-c453-4efe-bbe4-b6641d725fe8",
   "metadata": {},
   "source": [
    "Features are dependent!"
   ]
  },
  {
   "cell_type": "code",
   "execution_count": 135,
   "id": "324d5967-f739-4eb2-b68b-c462826f7a7e",
   "metadata": {},
   "outputs": [],
   "source": [
    "models_df.loc['Gaussian NB'] = [f1_gnb, acc_gnb]"
   ]
  },
  {
   "cell_type": "markdown",
   "id": "6a9a17c3-3e88-45be-838e-fdcc6e0e3a7a",
   "metadata": {},
   "source": [
    "## Logistic Regression"
   ]
  },
  {
   "cell_type": "code",
   "execution_count": 57,
   "id": "68c53bb9-eb82-4d60-9773-6e7dcba37645",
   "metadata": {},
   "outputs": [],
   "source": [
    "multi_class = ['ovr', 'multinomial']\n",
    "max_iter = [1000, 10000, 100000]"
   ]
  },
  {
   "cell_type": "code",
   "execution_count": 58,
   "id": "32c1d07f-2074-459c-834b-9f2f5cc15c15",
   "metadata": {},
   "outputs": [],
   "source": [
    "logisticr_df = pd.DataFrame(columns = ['multi_class', 'max_iter', 'accuracy', 'f1_score'])"
   ]
  },
  {
   "cell_type": "code",
   "execution_count": 59,
   "id": "a47e1a6e-fc3d-4d7e-925b-d610e0adffdd",
   "metadata": {},
   "outputs": [],
   "source": [
    "n_samples = 0\n",
    "\n",
    "for multi in multi_class:\n",
    "    for n_iter in max_iter:\n",
    "    \n",
    "        logistic = LogisticRegression(max_iter = n_iter, multi_class=multi)\n",
    "\n",
    "        logistic.fit(X_train, y_train)\n",
    "\n",
    "        y_pred = logistic.predict(X_valid)\n",
    "\n",
    "        acc = accuracy_score(y_valid, y_pred)\n",
    "\n",
    "        f1 = f1_score(y_valid, y_pred, average='weighted')\n",
    "\n",
    "        row = [multi, n_iter, acc, f1]\n",
    "\n",
    "        logisticr_df.loc[n_samples] = row\n",
    "\n",
    "        n_samples+=1"
   ]
  },
  {
   "cell_type": "code",
   "execution_count": 60,
   "id": "c46da291-6dbc-40bb-988f-382cd57f922a",
   "metadata": {},
   "outputs": [
    {
     "data": {
      "text/html": [
       "<div>\n",
       "<style scoped>\n",
       "    .dataframe tbody tr th:only-of-type {\n",
       "        vertical-align: middle;\n",
       "    }\n",
       "\n",
       "    .dataframe tbody tr th {\n",
       "        vertical-align: top;\n",
       "    }\n",
       "\n",
       "    .dataframe thead th {\n",
       "        text-align: right;\n",
       "    }\n",
       "</style>\n",
       "<table border=\"1\" class=\"dataframe\">\n",
       "  <thead>\n",
       "    <tr style=\"text-align: right;\">\n",
       "      <th></th>\n",
       "      <th>multi_class</th>\n",
       "      <th>max_iter</th>\n",
       "      <th>accuracy</th>\n",
       "      <th>f1_score</th>\n",
       "    </tr>\n",
       "  </thead>\n",
       "  <tbody>\n",
       "    <tr>\n",
       "      <th>0</th>\n",
       "      <td>ovr</td>\n",
       "      <td>1000</td>\n",
       "      <td>0.636771</td>\n",
       "      <td>0.624175</td>\n",
       "    </tr>\n",
       "    <tr>\n",
       "      <th>1</th>\n",
       "      <td>ovr</td>\n",
       "      <td>10000</td>\n",
       "      <td>0.636771</td>\n",
       "      <td>0.624175</td>\n",
       "    </tr>\n",
       "    <tr>\n",
       "      <th>2</th>\n",
       "      <td>ovr</td>\n",
       "      <td>100000</td>\n",
       "      <td>0.636771</td>\n",
       "      <td>0.624175</td>\n",
       "    </tr>\n",
       "    <tr>\n",
       "      <th>3</th>\n",
       "      <td>multinomial</td>\n",
       "      <td>1000</td>\n",
       "      <td>0.632287</td>\n",
       "      <td>0.623296</td>\n",
       "    </tr>\n",
       "    <tr>\n",
       "      <th>4</th>\n",
       "      <td>multinomial</td>\n",
       "      <td>10000</td>\n",
       "      <td>0.632287</td>\n",
       "      <td>0.623296</td>\n",
       "    </tr>\n",
       "  </tbody>\n",
       "</table>\n",
       "</div>"
      ],
      "text/plain": [
       "   multi_class  max_iter  accuracy  f1_score\n",
       "0          ovr      1000  0.636771  0.624175\n",
       "1          ovr     10000  0.636771  0.624175\n",
       "2          ovr    100000  0.636771  0.624175\n",
       "3  multinomial      1000  0.632287  0.623296\n",
       "4  multinomial     10000  0.632287  0.623296"
      ]
     },
     "execution_count": 60,
     "metadata": {},
     "output_type": "execute_result"
    }
   ],
   "source": [
    "logisticr_df.sort_values('f1_score', ascending=False, inplace=True)\n",
    "logisticr_df.head()"
   ]
  },
  {
   "cell_type": "code",
   "execution_count": 61,
   "id": "d44a5705-af83-4478-b7e3-eea26e813155",
   "metadata": {},
   "outputs": [
    {
     "data": {
      "text/plain": [
       "multi_class         ovr\n",
       "max_iter           1000\n",
       "accuracy       0.636771\n",
       "f1_score       0.624175\n",
       "Name: 0, dtype: object"
      ]
     },
     "execution_count": 61,
     "metadata": {},
     "output_type": "execute_result"
    }
   ],
   "source": [
    "best = logisticr_df.iloc[0,:]\n",
    "best"
   ]
  },
  {
   "cell_type": "code",
   "execution_count": 62,
   "id": "dd8431e0-8fc3-44a4-a1ac-87cd494bcf2b",
   "metadata": {},
   "outputs": [],
   "source": [
    "logistic = LogisticRegression(max_iter = best.max_iter, multi_class=best.multi_class)"
   ]
  },
  {
   "cell_type": "code",
   "execution_count": 63,
   "id": "d79fa0e7-37d3-4e2b-9264-a95a5d1186de",
   "metadata": {},
   "outputs": [
    {
     "data": {
      "text/plain": [
       "LogisticRegression(max_iter=1000, multi_class='ovr')"
      ]
     },
     "execution_count": 63,
     "metadata": {},
     "output_type": "execute_result"
    }
   ],
   "source": [
    "logistic.fit(X_train, y_train)"
   ]
  },
  {
   "cell_type": "code",
   "execution_count": 64,
   "id": "69ab8715-047d-46d5-95a9-9a8cfe901698",
   "metadata": {},
   "outputs": [],
   "source": [
    "y_pred = logistic.predict(X_test)"
   ]
  },
  {
   "cell_type": "code",
   "execution_count": 65,
   "id": "f54c4874-715d-4f5b-ba1e-883c5a3b5304",
   "metadata": {},
   "outputs": [
    {
     "data": {
      "text/plain": [
       "0.58"
      ]
     },
     "execution_count": 65,
     "metadata": {},
     "output_type": "execute_result"
    }
   ],
   "source": [
    "f1_log = round(f1_score(y_test, y_pred, average='weighted'),2)\n",
    "f1_log"
   ]
  },
  {
   "cell_type": "code",
   "execution_count": 66,
   "id": "2ef94171-3734-4c41-a539-be82e573cb67",
   "metadata": {},
   "outputs": [
    {
     "data": {
      "text/plain": [
       "0.61"
      ]
     },
     "execution_count": 66,
     "metadata": {},
     "output_type": "execute_result"
    }
   ],
   "source": [
    "acc_log = round(accuracy_score(y_test, y_pred),2)\n",
    "acc_log"
   ]
  },
  {
   "cell_type": "code",
   "execution_count": 67,
   "id": "85b07a79-a315-4fc7-a72d-73bb67710517",
   "metadata": {},
   "outputs": [],
   "source": [
    "models_df.loc['Logistic Regression'] = [f1_log, acc_log]"
   ]
  },
  {
   "cell_type": "markdown",
   "id": "509e6deb-ba3d-4238-a8a2-62ed1686329b",
   "metadata": {},
   "source": [
    "## Decision trees"
   ]
  },
  {
   "cell_type": "code",
   "execution_count": 68,
   "id": "b387f420-a555-47de-8da6-9c67fcd850ee",
   "metadata": {},
   "outputs": [],
   "source": [
    "criterion = ['gini', 'entropy']\n",
    "splitter =['best', 'random']\n",
    "max_depth = [3, 5, 10, None]\n",
    "min_samples_split = [2, 5, 10]"
   ]
  },
  {
   "cell_type": "code",
   "execution_count": 69,
   "id": "48736412-0718-480f-8987-3b67c5887652",
   "metadata": {},
   "outputs": [],
   "source": [
    "decisiontree_df = pd.DataFrame(columns = ['criterion', 'splitter', 'max_depth', 'min_samples_split', 'accuracy', 'f1_score'])"
   ]
  },
  {
   "cell_type": "code",
   "execution_count": 70,
   "id": "9c26a757-4b11-4ed8-abc0-9b5e11d028e7",
   "metadata": {},
   "outputs": [],
   "source": [
    "n_samples = 0\n",
    "for crit in criterion:\n",
    "    for split in splitter:\n",
    "        for depth in max_depth:\n",
    "            for min_samples in min_samples_split:\n",
    "                decisiontree = tree.DecisionTreeClassifier(splitter = split, max_depth=depth,\n",
    "                                               criterion=crit, min_samples_split=min_samples)\n",
    "                decisiontree.fit(X_train, y_train)\n",
    "                \n",
    "                y_pred = decisiontree.predict(X_valid)\n",
    "                \n",
    "                acc = accuracy_score(y_valid, y_pred)\n",
    "\n",
    "                f1 = f1_score(y_valid, y_pred, average='weighted')\n",
    "                \n",
    "                row = [crit, split, depth, min_samples, acc, f1]\n",
    "                \n",
    "                decisiontree_df.loc[n_samples] = row\n",
    "                \n",
    "                n_samples+=1"
   ]
  },
  {
   "cell_type": "code",
   "execution_count": 71,
   "id": "0344b288-9163-47fc-a75e-f6753a6eaf7e",
   "metadata": {},
   "outputs": [
    {
     "data": {
      "text/html": [
       "<div>\n",
       "<style scoped>\n",
       "    .dataframe tbody tr th:only-of-type {\n",
       "        vertical-align: middle;\n",
       "    }\n",
       "\n",
       "    .dataframe tbody tr th {\n",
       "        vertical-align: top;\n",
       "    }\n",
       "\n",
       "    .dataframe thead th {\n",
       "        text-align: right;\n",
       "    }\n",
       "</style>\n",
       "<table border=\"1\" class=\"dataframe\">\n",
       "  <thead>\n",
       "    <tr style=\"text-align: right;\">\n",
       "      <th></th>\n",
       "      <th>criterion</th>\n",
       "      <th>splitter</th>\n",
       "      <th>max_depth</th>\n",
       "      <th>min_samples_split</th>\n",
       "      <th>accuracy</th>\n",
       "      <th>f1_score</th>\n",
       "    </tr>\n",
       "  </thead>\n",
       "  <tbody>\n",
       "    <tr>\n",
       "      <th>21</th>\n",
       "      <td>gini</td>\n",
       "      <td>random</td>\n",
       "      <td>None</td>\n",
       "      <td>2</td>\n",
       "      <td>0.654709</td>\n",
       "      <td>0.642051</td>\n",
       "    </tr>\n",
       "    <tr>\n",
       "      <th>9</th>\n",
       "      <td>gini</td>\n",
       "      <td>best</td>\n",
       "      <td>None</td>\n",
       "      <td>2</td>\n",
       "      <td>0.636771</td>\n",
       "      <td>0.620189</td>\n",
       "    </tr>\n",
       "    <tr>\n",
       "      <th>45</th>\n",
       "      <td>entropy</td>\n",
       "      <td>random</td>\n",
       "      <td>None</td>\n",
       "      <td>2</td>\n",
       "      <td>0.614350</td>\n",
       "      <td>0.591905</td>\n",
       "    </tr>\n",
       "    <tr>\n",
       "      <th>10</th>\n",
       "      <td>gini</td>\n",
       "      <td>best</td>\n",
       "      <td>None</td>\n",
       "      <td>5</td>\n",
       "      <td>0.560538</td>\n",
       "      <td>0.553284</td>\n",
       "    </tr>\n",
       "    <tr>\n",
       "      <th>33</th>\n",
       "      <td>entropy</td>\n",
       "      <td>best</td>\n",
       "      <td>None</td>\n",
       "      <td>2</td>\n",
       "      <td>0.578475</td>\n",
       "      <td>0.547227</td>\n",
       "    </tr>\n",
       "  </tbody>\n",
       "</table>\n",
       "</div>"
      ],
      "text/plain": [
       "   criterion splitter max_depth  min_samples_split  accuracy  f1_score\n",
       "21      gini   random      None                  2  0.654709  0.642051\n",
       "9       gini     best      None                  2  0.636771  0.620189\n",
       "45   entropy   random      None                  2  0.614350  0.591905\n",
       "10      gini     best      None                  5  0.560538  0.553284\n",
       "33   entropy     best      None                  2  0.578475  0.547227"
      ]
     },
     "execution_count": 71,
     "metadata": {},
     "output_type": "execute_result"
    }
   ],
   "source": [
    "decisiontree_df.sort_values('f1_score', ascending=False, inplace=True)\n",
    "decisiontree_df.head()"
   ]
  },
  {
   "cell_type": "code",
   "execution_count": 72,
   "id": "a0455501-ea3b-4de1-8b70-e5a2bdde6db8",
   "metadata": {},
   "outputs": [
    {
     "data": {
      "text/plain": [
       "criterion                gini\n",
       "splitter               random\n",
       "max_depth                None\n",
       "min_samples_split           2\n",
       "accuracy             0.654709\n",
       "f1_score             0.642051\n",
       "Name: 21, dtype: object"
      ]
     },
     "execution_count": 72,
     "metadata": {},
     "output_type": "execute_result"
    }
   ],
   "source": [
    "best = decisiontree_df.iloc[0,:]\n",
    "best"
   ]
  },
  {
   "cell_type": "code",
   "execution_count": 73,
   "id": "f9eb625d-961d-4c8e-a9a9-9b52ff222d44",
   "metadata": {},
   "outputs": [],
   "source": [
    "decisiontree = tree.DecisionTreeClassifier(splitter = best.splitter, max_depth=best.max_depth, criterion=best.criterion, min_samples_split=best.min_samples_split)"
   ]
  },
  {
   "cell_type": "code",
   "execution_count": 74,
   "id": "658cd452-7142-41e1-97ac-7cad65eebcbd",
   "metadata": {},
   "outputs": [
    {
     "data": {
      "text/plain": [
       "DecisionTreeClassifier(splitter='random')"
      ]
     },
     "execution_count": 74,
     "metadata": {},
     "output_type": "execute_result"
    }
   ],
   "source": [
    "decisiontree.fit(X_train, y_train)"
   ]
  },
  {
   "cell_type": "code",
   "execution_count": 75,
   "id": "49ed2230-b7ea-4f26-a22b-a2bd09bf7254",
   "metadata": {},
   "outputs": [],
   "source": [
    "y_pred = decisiontree.predict(X_test)"
   ]
  },
  {
   "cell_type": "code",
   "execution_count": 76,
   "id": "cf9206fe-941c-4be0-aeed-9e5371dd0a7e",
   "metadata": {},
   "outputs": [
    {
     "data": {
      "text/plain": [
       "0.57"
      ]
     },
     "execution_count": 76,
     "metadata": {},
     "output_type": "execute_result"
    }
   ],
   "source": [
    "acc_decision = round(accuracy_score(y_test, y_pred), 2)\n",
    "acc_decision"
   ]
  },
  {
   "cell_type": "code",
   "execution_count": 77,
   "id": "1821670a-97ca-44cd-b763-ce1af7f74a82",
   "metadata": {},
   "outputs": [
    {
     "data": {
      "text/plain": [
       "0.54"
      ]
     },
     "execution_count": 77,
     "metadata": {},
     "output_type": "execute_result"
    }
   ],
   "source": [
    "f1_decision = round(f1_score(y_test, y_pred, average='weighted'), 2)\n",
    "f1_decision"
   ]
  },
  {
   "cell_type": "code",
   "execution_count": 78,
   "id": "9b07d2e7-63bc-4465-938e-0eab304cda19",
   "metadata": {},
   "outputs": [],
   "source": [
    "models_df.loc['Decision Tree'] = [f1_decision, acc_decision]"
   ]
  },
  {
   "cell_type": "markdown",
   "id": "966690a1-c6a1-4007-af27-22d28bb3d880",
   "metadata": {},
   "source": [
    "## SVM"
   ]
  },
  {
   "cell_type": "code",
   "execution_count": 79,
   "id": "d2cbaeec-5075-45bc-a76a-dc2ded167aa8",
   "metadata": {},
   "outputs": [],
   "source": [
    "kernels = ['linear', 'rbf', 'poly']\n",
    "regularization_strength = [0.0001, 0.001, 0.01, 0.1, 1, 10]"
   ]
  },
  {
   "cell_type": "code",
   "execution_count": 80,
   "id": "6a7b296b-6ea7-4462-a20c-921a3b63184e",
   "metadata": {},
   "outputs": [],
   "source": [
    "svm_df = pd.DataFrame(columns = ['kernel', 'c', 'accuracy', 'f1_score'])"
   ]
  },
  {
   "cell_type": "code",
   "execution_count": 81,
   "id": "ccfcbc20-e243-450e-b4f4-7bbd524b5abc",
   "metadata": {},
   "outputs": [],
   "source": [
    "n_samples = 0\n",
    "for kernel in kernels:\n",
    "    for c in regularization_strength:\n",
    "        svm = SVC(kernel=kernel, C=c)\n",
    "\n",
    "        svm.fit(X_train, y_train)\n",
    "                \n",
    "        y_pred = svm.predict(X_valid)\n",
    "                \n",
    "        acc = accuracy_score(y_valid, y_pred)\n",
    "\n",
    "        f1 = f1_score(y_valid, y_pred, average='weighted')\n",
    "                \n",
    "        row = [kernel, c, acc, f1]\n",
    "                \n",
    "        svm_df.loc[n_samples] = row\n",
    "                \n",
    "        n_samples+=1"
   ]
  },
  {
   "cell_type": "code",
   "execution_count": 82,
   "id": "bfea98d9-7caf-4531-a381-ef1216892a12",
   "metadata": {},
   "outputs": [
    {
     "data": {
      "text/html": [
       "<div>\n",
       "<style scoped>\n",
       "    .dataframe tbody tr th:only-of-type {\n",
       "        vertical-align: middle;\n",
       "    }\n",
       "\n",
       "    .dataframe tbody tr th {\n",
       "        vertical-align: top;\n",
       "    }\n",
       "\n",
       "    .dataframe thead th {\n",
       "        text-align: right;\n",
       "    }\n",
       "</style>\n",
       "<table border=\"1\" class=\"dataframe\">\n",
       "  <thead>\n",
       "    <tr style=\"text-align: right;\">\n",
       "      <th></th>\n",
       "      <th>kernel</th>\n",
       "      <th>c</th>\n",
       "      <th>accuracy</th>\n",
       "      <th>f1_score</th>\n",
       "    </tr>\n",
       "  </thead>\n",
       "  <tbody>\n",
       "    <tr>\n",
       "      <th>17</th>\n",
       "      <td>poly</td>\n",
       "      <td>10.0</td>\n",
       "      <td>0.636771</td>\n",
       "      <td>0.651125</td>\n",
       "    </tr>\n",
       "    <tr>\n",
       "      <th>4</th>\n",
       "      <td>linear</td>\n",
       "      <td>1.0</td>\n",
       "      <td>0.641256</td>\n",
       "      <td>0.623936</td>\n",
       "    </tr>\n",
       "    <tr>\n",
       "      <th>5</th>\n",
       "      <td>linear</td>\n",
       "      <td>10.0</td>\n",
       "      <td>0.641256</td>\n",
       "      <td>0.623936</td>\n",
       "    </tr>\n",
       "    <tr>\n",
       "      <th>3</th>\n",
       "      <td>linear</td>\n",
       "      <td>0.1</td>\n",
       "      <td>0.641256</td>\n",
       "      <td>0.622146</td>\n",
       "    </tr>\n",
       "    <tr>\n",
       "      <th>11</th>\n",
       "      <td>rbf</td>\n",
       "      <td>10.0</td>\n",
       "      <td>0.609865</td>\n",
       "      <td>0.594561</td>\n",
       "    </tr>\n",
       "  </tbody>\n",
       "</table>\n",
       "</div>"
      ],
      "text/plain": [
       "    kernel     c  accuracy  f1_score\n",
       "17    poly  10.0  0.636771  0.651125\n",
       "4   linear   1.0  0.641256  0.623936\n",
       "5   linear  10.0  0.641256  0.623936\n",
       "3   linear   0.1  0.641256  0.622146\n",
       "11     rbf  10.0  0.609865  0.594561"
      ]
     },
     "execution_count": 82,
     "metadata": {},
     "output_type": "execute_result"
    }
   ],
   "source": [
    "svm_df.sort_values('f1_score', ascending=False, inplace=True)\n",
    "svm_df.head()"
   ]
  },
  {
   "cell_type": "code",
   "execution_count": 83,
   "id": "e03890b8-168e-4bf6-8a04-75236596d96b",
   "metadata": {},
   "outputs": [
    {
     "data": {
      "text/plain": [
       "kernel          poly\n",
       "c               10.0\n",
       "accuracy    0.636771\n",
       "f1_score    0.651125\n",
       "Name: 17, dtype: object"
      ]
     },
     "execution_count": 83,
     "metadata": {},
     "output_type": "execute_result"
    }
   ],
   "source": [
    "best = svm_df.iloc[0,:]\n",
    "best"
   ]
  },
  {
   "cell_type": "code",
   "execution_count": 84,
   "id": "5dfd49ac-4581-4653-b433-34910cae26bb",
   "metadata": {},
   "outputs": [],
   "source": [
    "svm = SVC(kernel=best.kernel, C=best.c)"
   ]
  },
  {
   "cell_type": "code",
   "execution_count": 85,
   "id": "f24c5abb-11ae-4c87-ad8f-372c9f2817c5",
   "metadata": {},
   "outputs": [
    {
     "data": {
      "text/plain": [
       "SVC(C=10.0, kernel='poly')"
      ]
     },
     "execution_count": 85,
     "metadata": {},
     "output_type": "execute_result"
    }
   ],
   "source": [
    "svm.fit(X_train, y_train)"
   ]
  },
  {
   "cell_type": "code",
   "execution_count": 86,
   "id": "1fb2274c-040d-483a-a948-67ef33eb6aa8",
   "metadata": {},
   "outputs": [],
   "source": [
    "y_pred = svm.predict(X_test)"
   ]
  },
  {
   "cell_type": "code",
   "execution_count": 87,
   "id": "4a168e6a-c3a4-4f00-bcc6-278ceb25f362",
   "metadata": {},
   "outputs": [
    {
     "data": {
      "text/plain": [
       "0.65"
      ]
     },
     "execution_count": 87,
     "metadata": {},
     "output_type": "execute_result"
    }
   ],
   "source": [
    "acc_svc = round(accuracy_score(y_test, y_pred), 2)\n",
    "acc_svc"
   ]
  },
  {
   "cell_type": "code",
   "execution_count": 88,
   "id": "ed59b6cf-60ca-4ef8-9ddd-9acdd454e307",
   "metadata": {},
   "outputs": [
    {
     "data": {
      "text/plain": [
       "0.65"
      ]
     },
     "execution_count": 88,
     "metadata": {},
     "output_type": "execute_result"
    }
   ],
   "source": [
    "f1_svc = round(f1_score(y_test, y_pred, average='weighted'), 2)\n",
    "f1_svc"
   ]
  },
  {
   "cell_type": "code",
   "execution_count": 89,
   "id": "b7f8651f-65b2-4805-9644-1f7a54236b7b",
   "metadata": {},
   "outputs": [],
   "source": [
    "models_df.loc['SVM'] = [f1_svc, acc_svc]"
   ]
  },
  {
   "cell_type": "markdown",
   "id": "025f41b6-2866-4ccb-b97c-1cd0728c1509",
   "metadata": {},
   "source": [
    "## SGD"
   ]
  },
  {
   "cell_type": "code",
   "execution_count": 151,
   "id": "294dcd4b-39f7-4c8a-9a74-24b481cfb89b",
   "metadata": {},
   "outputs": [],
   "source": [
    "loss = ['hinge', 'log', 'modified_huber', 'perceptron']\n",
    "penalty = ['l2', 'l1', 'elasticnet']\n",
    "alpha = [0.0001, 0.001, 0.01, 0.1]\n",
    "learning_rate = ['constant', 'optimal', 'invscaling']\n",
    "max_iter = [1000, 10000]"
   ]
  },
  {
   "cell_type": "code",
   "execution_count": 152,
   "id": "a0c5951f-86ce-421b-8f86-45222a776eae",
   "metadata": {},
   "outputs": [],
   "source": [
    "sgd_df = pd.DataFrame(columns = ['loss', 'penalty', 'alpha', 'learning_rate', 'max_iter', 'accuracy', 'f1_score'])"
   ]
  },
  {
   "cell_type": "code",
   "execution_count": 153,
   "id": "242791d5-e6be-4bf9-a639-c7aefba1538f",
   "metadata": {},
   "outputs": [
    {
     "name": "stderr",
     "output_type": "stream",
     "text": [
      "/home/vsa/anaconda3/lib/python3.9/site-packages/sklearn/linear_model/_stochastic_gradient.py:696: ConvergenceWarning: Maximum number of iteration reached before convergence. Consider increasing max_iter to improve the fit.\n",
      "  warnings.warn(\n",
      "/home/vsa/anaconda3/lib/python3.9/site-packages/sklearn/linear_model/_stochastic_gradient.py:696: ConvergenceWarning: Maximum number of iteration reached before convergence. Consider increasing max_iter to improve the fit.\n",
      "  warnings.warn(\n",
      "/home/vsa/anaconda3/lib/python3.9/site-packages/sklearn/linear_model/_stochastic_gradient.py:696: ConvergenceWarning: Maximum number of iteration reached before convergence. Consider increasing max_iter to improve the fit.\n",
      "  warnings.warn(\n",
      "/home/vsa/anaconda3/lib/python3.9/site-packages/sklearn/linear_model/_stochastic_gradient.py:696: ConvergenceWarning: Maximum number of iteration reached before convergence. Consider increasing max_iter to improve the fit.\n",
      "  warnings.warn(\n",
      "/home/vsa/anaconda3/lib/python3.9/site-packages/sklearn/linear_model/_stochastic_gradient.py:696: ConvergenceWarning: Maximum number of iteration reached before convergence. Consider increasing max_iter to improve the fit.\n",
      "  warnings.warn(\n",
      "/home/vsa/anaconda3/lib/python3.9/site-packages/sklearn/linear_model/_stochastic_gradient.py:696: ConvergenceWarning: Maximum number of iteration reached before convergence. Consider increasing max_iter to improve the fit.\n",
      "  warnings.warn(\n",
      "/home/vsa/anaconda3/lib/python3.9/site-packages/sklearn/linear_model/_stochastic_gradient.py:696: ConvergenceWarning: Maximum number of iteration reached before convergence. Consider increasing max_iter to improve the fit.\n",
      "  warnings.warn(\n"
     ]
    }
   ],
   "source": [
    "n_samples = 0\n",
    "for l in loss:\n",
    "    for p in penalty:\n",
    "        for a in alpha:\n",
    "            for lr in learning_rate:\n",
    "                for it in max_iter:\n",
    "                    sgd = SGDClassifier(loss=l, penalty=p,\n",
    "                                            alpha=a, max_iter=it,\n",
    "                                            learning_rate=lr,\n",
    "                                            eta0=0.01)\n",
    "\n",
    "                    sgd.fit(X_train, y_train)\n",
    "\n",
    "                    y_pred = sgd.predict(X_valid)\n",
    "\n",
    "                    acc = accuracy_score(y_valid, y_pred)\n",
    "\n",
    "                    f1 = f1_score(y_valid, y_pred, average='weighted')\n",
    "\n",
    "                    row = [l, p, a, lr, it, acc, f1]\n",
    "\n",
    "                    sgd_df.loc[n_samples] = row\n",
    "\n",
    "                    n_samples+=1"
   ]
  },
  {
   "cell_type": "code",
   "execution_count": 155,
   "id": "71c2a591-b6fa-4918-b198-360d792d962d",
   "metadata": {},
   "outputs": [
    {
     "data": {
      "text/html": [
       "<div>\n",
       "<style scoped>\n",
       "    .dataframe tbody tr th:only-of-type {\n",
       "        vertical-align: middle;\n",
       "    }\n",
       "\n",
       "    .dataframe tbody tr th {\n",
       "        vertical-align: top;\n",
       "    }\n",
       "\n",
       "    .dataframe thead th {\n",
       "        text-align: right;\n",
       "    }\n",
       "</style>\n",
       "<table border=\"1\" class=\"dataframe\">\n",
       "  <thead>\n",
       "    <tr style=\"text-align: right;\">\n",
       "      <th></th>\n",
       "      <th>loss</th>\n",
       "      <th>penalty</th>\n",
       "      <th>alpha</th>\n",
       "      <th>learning_rate</th>\n",
       "      <th>max_iter</th>\n",
       "      <th>accuracy</th>\n",
       "      <th>f1_score</th>\n",
       "    </tr>\n",
       "  </thead>\n",
       "  <tbody>\n",
       "    <tr>\n",
       "      <th>99</th>\n",
       "      <td>log</td>\n",
       "      <td>l1</td>\n",
       "      <td>0.0001</td>\n",
       "      <td>optimal</td>\n",
       "      <td>10000</td>\n",
       "      <td>0.636771</td>\n",
       "      <td>0.628220</td>\n",
       "    </tr>\n",
       "    <tr>\n",
       "      <th>26</th>\n",
       "      <td>hinge</td>\n",
       "      <td>l1</td>\n",
       "      <td>0.0001</td>\n",
       "      <td>optimal</td>\n",
       "      <td>1000</td>\n",
       "      <td>0.627803</td>\n",
       "      <td>0.623402</td>\n",
       "    </tr>\n",
       "    <tr>\n",
       "      <th>170</th>\n",
       "      <td>modified_huber</td>\n",
       "      <td>l1</td>\n",
       "      <td>0.0001</td>\n",
       "      <td>optimal</td>\n",
       "      <td>1000</td>\n",
       "      <td>0.632287</td>\n",
       "      <td>0.621523</td>\n",
       "    </tr>\n",
       "    <tr>\n",
       "      <th>243</th>\n",
       "      <td>perceptron</td>\n",
       "      <td>l1</td>\n",
       "      <td>0.0001</td>\n",
       "      <td>optimal</td>\n",
       "      <td>10000</td>\n",
       "      <td>0.627803</td>\n",
       "      <td>0.619234</td>\n",
       "    </tr>\n",
       "    <tr>\n",
       "      <th>98</th>\n",
       "      <td>log</td>\n",
       "      <td>l1</td>\n",
       "      <td>0.0001</td>\n",
       "      <td>optimal</td>\n",
       "      <td>1000</td>\n",
       "      <td>0.618834</td>\n",
       "      <td>0.611302</td>\n",
       "    </tr>\n",
       "  </tbody>\n",
       "</table>\n",
       "</div>"
      ],
      "text/plain": [
       "               loss penalty   alpha learning_rate  max_iter  accuracy  \\\n",
       "99              log      l1  0.0001       optimal     10000  0.636771   \n",
       "26            hinge      l1  0.0001       optimal      1000  0.627803   \n",
       "170  modified_huber      l1  0.0001       optimal      1000  0.632287   \n",
       "243      perceptron      l1  0.0001       optimal     10000  0.627803   \n",
       "98              log      l1  0.0001       optimal      1000  0.618834   \n",
       "\n",
       "     f1_score  \n",
       "99   0.628220  \n",
       "26   0.623402  \n",
       "170  0.621523  \n",
       "243  0.619234  \n",
       "98   0.611302  "
      ]
     },
     "execution_count": 155,
     "metadata": {},
     "output_type": "execute_result"
    }
   ],
   "source": [
    "sgd_df.sort_values('f1_score', ascending=False, inplace=True)\n",
    "sgd_df.head()"
   ]
  },
  {
   "cell_type": "code",
   "execution_count": 156,
   "id": "9eca4515-778e-4656-b320-bae9e5c16f64",
   "metadata": {},
   "outputs": [
    {
     "data": {
      "text/plain": [
       "loss                  log\n",
       "penalty                l1\n",
       "alpha              0.0001\n",
       "learning_rate     optimal\n",
       "max_iter            10000\n",
       "accuracy         0.636771\n",
       "f1_score          0.62822\n",
       "Name: 99, dtype: object"
      ]
     },
     "execution_count": 156,
     "metadata": {},
     "output_type": "execute_result"
    }
   ],
   "source": [
    "best = sgd_df.iloc[0,:]\n",
    "best"
   ]
  },
  {
   "cell_type": "code",
   "execution_count": 157,
   "id": "16cb35c3-a1b9-4611-b95b-83f8c609b906",
   "metadata": {},
   "outputs": [],
   "source": [
    "sgd = SGDClassifier(loss=best.loss, penalty=best.penalty, alpha=best.alpha, max_iter=best.max_iter, learning_rate=best.learning_rate, eta0=0.01)"
   ]
  },
  {
   "cell_type": "code",
   "execution_count": 158,
   "id": "5beab91b-10ea-49be-9b7b-fd8210a3cafd",
   "metadata": {},
   "outputs": [
    {
     "data": {
      "text/plain": [
       "SGDClassifier(eta0=0.01, loss='log', max_iter=10000, penalty='l1')"
      ]
     },
     "execution_count": 158,
     "metadata": {},
     "output_type": "execute_result"
    }
   ],
   "source": [
    "sgd.fit(X_train, y_train)"
   ]
  },
  {
   "cell_type": "code",
   "execution_count": 159,
   "id": "02053493-5aab-4616-97e9-7ed8a59c7c57",
   "metadata": {},
   "outputs": [],
   "source": [
    "y_pred = sgd.predict(X_test)"
   ]
  },
  {
   "cell_type": "code",
   "execution_count": 160,
   "id": "bb1b5036-95f9-491f-ae29-5ebbd4261e40",
   "metadata": {},
   "outputs": [
    {
     "data": {
      "text/plain": [
       "0.62"
      ]
     },
     "execution_count": 160,
     "metadata": {},
     "output_type": "execute_result"
    }
   ],
   "source": [
    "acc_sgd = round(accuracy_score(y_test, y_pred), 2)\n",
    "acc_sgd"
   ]
  },
  {
   "cell_type": "code",
   "execution_count": 161,
   "id": "914a19c0-c42b-401e-973e-4d07cf35ea63",
   "metadata": {},
   "outputs": [
    {
     "data": {
      "text/plain": [
       "0.6"
      ]
     },
     "execution_count": 161,
     "metadata": {},
     "output_type": "execute_result"
    }
   ],
   "source": [
    "f1_sgd = round(f1_score(y_test, y_pred, average='weighted'), 2)\n",
    "f1_sgd"
   ]
  },
  {
   "cell_type": "code",
   "execution_count": 162,
   "id": "5f745ce0-ac3b-4853-a37d-a44e086d0e47",
   "metadata": {},
   "outputs": [],
   "source": [
    "models_df.loc['SGD'] = [f1_sgd, acc_sgd]"
   ]
  },
  {
   "cell_type": "markdown",
   "id": "8ee0c12b-772a-427c-9a6b-cedb1cb74382",
   "metadata": {},
   "source": [
    "# Analyze results"
   ]
  },
  {
   "cell_type": "code",
   "execution_count": 163,
   "id": "d4348969-dcf4-471b-9db9-59778fdf5271",
   "metadata": {},
   "outputs": [
    {
     "data": {
      "text/html": [
       "<div>\n",
       "<style scoped>\n",
       "    .dataframe tbody tr th:only-of-type {\n",
       "        vertical-align: middle;\n",
       "    }\n",
       "\n",
       "    .dataframe tbody tr th {\n",
       "        vertical-align: top;\n",
       "    }\n",
       "\n",
       "    .dataframe thead th {\n",
       "        text-align: right;\n",
       "    }\n",
       "</style>\n",
       "<table border=\"1\" class=\"dataframe\">\n",
       "  <thead>\n",
       "    <tr style=\"text-align: right;\">\n",
       "      <th></th>\n",
       "      <th>Accuracy</th>\n",
       "      <th>F1-score</th>\n",
       "    </tr>\n",
       "  </thead>\n",
       "  <tbody>\n",
       "    <tr>\n",
       "      <th>Random forest</th>\n",
       "      <td>0.67</td>\n",
       "      <td>0.68</td>\n",
       "    </tr>\n",
       "    <tr>\n",
       "      <th>SVM</th>\n",
       "      <td>0.65</td>\n",
       "      <td>0.65</td>\n",
       "    </tr>\n",
       "    <tr>\n",
       "      <th>SGD</th>\n",
       "      <td>0.60</td>\n",
       "      <td>0.62</td>\n",
       "    </tr>\n",
       "    <tr>\n",
       "      <th>K-Nearest Neighbors</th>\n",
       "      <td>0.58</td>\n",
       "      <td>0.61</td>\n",
       "    </tr>\n",
       "    <tr>\n",
       "      <th>Logistic Regression</th>\n",
       "      <td>0.58</td>\n",
       "      <td>0.61</td>\n",
       "    </tr>\n",
       "    <tr>\n",
       "      <th>Decision Tree</th>\n",
       "      <td>0.54</td>\n",
       "      <td>0.57</td>\n",
       "    </tr>\n",
       "    <tr>\n",
       "      <th>Gaussian NB</th>\n",
       "      <td>0.19</td>\n",
       "      <td>0.22</td>\n",
       "    </tr>\n",
       "  </tbody>\n",
       "</table>\n",
       "</div>"
      ],
      "text/plain": [
       "                     Accuracy  F1-score\n",
       "Random forest            0.67      0.68\n",
       "SVM                      0.65      0.65\n",
       "SGD                      0.60      0.62\n",
       "K-Nearest Neighbors      0.58      0.61\n",
       "Logistic Regression      0.58      0.61\n",
       "Decision Tree            0.54      0.57\n",
       "Gaussian NB              0.19      0.22"
      ]
     },
     "execution_count": 163,
     "metadata": {},
     "output_type": "execute_result"
    }
   ],
   "source": [
    "models_df.sort_values('F1-score', ascending=False, inplace=True)\n",
    "models_df"
   ]
  },
  {
   "cell_type": "markdown",
   "id": "904cec70-ff7f-4ca2-9575-2370769a5f43",
   "metadata": {},
   "source": [
    "# PCA"
   ]
  },
  {
   "cell_type": "code",
   "execution_count": 164,
   "id": "da537a05-d10f-4f82-9aff-77744c310c00",
   "metadata": {},
   "outputs": [],
   "source": [
    "pca = PCA()"
   ]
  },
  {
   "cell_type": "code",
   "execution_count": 165,
   "id": "acba6d65-a9c4-47e7-932a-241d0c194a57",
   "metadata": {},
   "outputs": [
    {
     "data": {
      "text/plain": [
       "PCA()"
      ]
     },
     "execution_count": 165,
     "metadata": {},
     "output_type": "execute_result"
    }
   ],
   "source": [
    "pca.fit(X_combined)"
   ]
  },
  {
   "cell_type": "code",
   "execution_count": 166,
   "id": "a60447a0-c1ee-4c2c-8922-216bb86cb5ae",
   "metadata": {},
   "outputs": [],
   "source": [
    "cumulative_variance = np.cumsum(pca.explained_variance_ratio_)"
   ]
  },
  {
   "cell_type": "code",
   "execution_count": 207,
   "id": "6a1ab319-5160-4b85-9785-fc6f68c2c012",
   "metadata": {},
   "outputs": [
    {
     "data": {
      "text/plain": [
       "94"
      ]
     },
     "execution_count": 207,
     "metadata": {},
     "output_type": "execute_result"
    }
   ],
   "source": [
    "n_components_95 = np.argmax(cumulative_variance >= 0.95) + 1\n",
    "n_components_95"
   ]
  },
  {
   "cell_type": "code",
   "execution_count": 208,
   "id": "eeaefd06-c393-44ac-aedd-76271b85cf5c",
   "metadata": {},
   "outputs": [],
   "source": [
    "pca = PCA(n_components=n_components_95)"
   ]
  },
  {
   "cell_type": "code",
   "execution_count": 209,
   "id": "e42b8719-ec75-443c-a305-e2db8367e97c",
   "metadata": {
    "tags": []
   },
   "outputs": [
    {
     "data": {
      "text/plain": [
       "(1484, 94)"
      ]
     },
     "execution_count": 209,
     "metadata": {},
     "output_type": "execute_result"
    }
   ],
   "source": [
    "X_reduced = pca.fit_transform(X_combined, y_combined)\n",
    "X_reduced.shape"
   ]
  },
  {
   "cell_type": "code",
   "execution_count": 210,
   "id": "240608b9-a432-41af-a062-0c82b569e4d6",
   "metadata": {},
   "outputs": [],
   "source": [
    "X_train_reduced, X_test_reduced, y_train_reduced, y_test_reduced = train_test_split(X_reduced, y_combined, test_size=0.3)"
   ]
  },
  {
   "cell_type": "markdown",
   "id": "2aa8b97a-ebd4-4832-9d75-cde91eae7814",
   "metadata": {},
   "source": [
    "Let's run the best model (Random forest) in reduced dataset"
   ]
  },
  {
   "cell_type": "code",
   "execution_count": 211,
   "id": "8b6a7fc6-bf5a-467d-a164-d82c43eb674d",
   "metadata": {},
   "outputs": [
    {
     "data": {
      "text/plain": [
       "n_estimators            10000\n",
       "criterion             entropy\n",
       "max_depth                None\n",
       "min_samples_split           5\n",
       "max_features             auto\n",
       "bootstrap               False\n",
       "accuracy             0.695067\n",
       "f1_score             0.698314\n",
       "Name: 421, dtype: object"
      ]
     },
     "execution_count": 211,
     "metadata": {},
     "output_type": "execute_result"
    }
   ],
   "source": [
    "best = randomforest_df.iloc[0,:]\n",
    "best"
   ]
  },
  {
   "cell_type": "code",
   "execution_count": 212,
   "id": "5bff5aeb-3626-494a-9802-a91a06b248d7",
   "metadata": {},
   "outputs": [],
   "source": [
    "forest = RandomForestClassifier(n_estimators=best.n_estimators, max_depth=best.max_depth,\n",
    "                                criterion=best.criterion, min_samples_split=best.min_samples_split,\n",
    "                                max_features=best.max_features, bootstrap=best.bootstrap)"
   ]
  },
  {
   "cell_type": "code",
   "execution_count": 213,
   "id": "b9131419-4313-4b2e-9eb4-d3c02825176a",
   "metadata": {},
   "outputs": [
    {
     "data": {
      "text/plain": [
       "RandomForestClassifier(bootstrap=False, criterion='entropy',\n",
       "                       min_samples_split=5, n_estimators=10000)"
      ]
     },
     "execution_count": 213,
     "metadata": {},
     "output_type": "execute_result"
    }
   ],
   "source": [
    "forest.fit(X_train_reduced, y_train_reduced)"
   ]
  },
  {
   "cell_type": "code",
   "execution_count": 214,
   "id": "1f42094a-a1d8-4ce1-8c28-b2b901a3706e",
   "metadata": {},
   "outputs": [],
   "source": [
    "y_pred = forest.predict(X_test_reduced)"
   ]
  },
  {
   "cell_type": "code",
   "execution_count": 215,
   "id": "a1ac1eb4-e3a8-46ab-a1c5-1f1c6358e9b1",
   "metadata": {},
   "outputs": [
    {
     "data": {
      "text/plain": [
       "0.71"
      ]
     },
     "execution_count": 215,
     "metadata": {},
     "output_type": "execute_result"
    }
   ],
   "source": [
    "f1_rf_reduced = round(f1_score(y_test_reduced, y_pred, average='weighted'), 2)\n",
    "f1_rf_reduced"
   ]
  },
  {
   "cell_type": "code",
   "execution_count": 216,
   "id": "6fd077fe-f60a-455b-a5b5-a01655ed5eb5",
   "metadata": {},
   "outputs": [
    {
     "data": {
      "text/plain": [
       "0.7"
      ]
     },
     "execution_count": 216,
     "metadata": {},
     "output_type": "execute_result"
    }
   ],
   "source": [
    "acc_rf_reduced = round(accuracy_score(y_test_reduced, y_pred), 2)\n",
    "acc_rf_reduced"
   ]
  },
  {
   "cell_type": "code",
   "execution_count": 217,
   "id": "a2211200-b790-4fb2-90b3-37858a69dc69",
   "metadata": {},
   "outputs": [
    {
     "name": "stdout",
     "output_type": "stream",
     "text": [
      "Random Forest after PCA\n",
      "F1-score: 0.71\n",
      "Accuracy: 0.7\n"
     ]
    }
   ],
   "source": [
    "print('Random Forest after PCA')\n",
    "print(f'F1-score: {f1_rf_reduced}')\n",
    "print(f'Accuracy: {acc_rf_reduced}')"
   ]
  },
  {
   "cell_type": "markdown",
   "id": "16db017b-7170-4ded-99cf-61ac2775b543",
   "metadata": {},
   "source": [
    "# Feature selection"
   ]
  },
  {
   "cell_type": "code",
   "execution_count": 182,
   "id": "4820c987-f3b7-4686-bf27-415cc1888a20",
   "metadata": {},
   "outputs": [],
   "source": [
    "lr_feat_sel = LogisticRegression(penalty='l1', solver='liblinear')"
   ]
  },
  {
   "cell_type": "code",
   "execution_count": 183,
   "id": "8e0d23fc-033a-48f0-a82e-ae93938e7023",
   "metadata": {},
   "outputs": [
    {
     "data": {
      "text/plain": [
       "LogisticRegression(penalty='l1', solver='liblinear')"
      ]
     },
     "execution_count": 183,
     "metadata": {},
     "output_type": "execute_result"
    }
   ],
   "source": [
    "lr_feat_sel.fit(X_combined, y_combined)"
   ]
  },
  {
   "cell_type": "code",
   "execution_count": 184,
   "id": "240bf1bb-0fb3-4e5d-b93c-954660dce0ef",
   "metadata": {},
   "outputs": [
    {
     "data": {
      "text/plain": [
       "(1484, 889)"
      ]
     },
     "execution_count": 184,
     "metadata": {},
     "output_type": "execute_result"
    }
   ],
   "source": [
    "selector = SelectFromModel(lr_feat_sel, prefit=True)\n",
    "X_selected = selector.transform(X_combined)\n",
    "X_selected.shape"
   ]
  },
  {
   "cell_type": "code",
   "execution_count": 186,
   "id": "dbc62961-e912-4fb4-8808-4917bbca40c6",
   "metadata": {},
   "outputs": [],
   "source": [
    "X_train_selected, X_test_selected, y_train_selected, y_test_selected = train_test_split(X_selected, y_combined, test_size=0.3)"
   ]
  },
  {
   "cell_type": "code",
   "execution_count": 187,
   "id": "aeda7289-c8ea-4747-8c8d-8509d1d0176a",
   "metadata": {},
   "outputs": [],
   "source": [
    "best = randomforest_df.iloc[0,:]"
   ]
  },
  {
   "cell_type": "code",
   "execution_count": 188,
   "id": "9e08ae86-42e9-4cb7-9456-ac11c435adac",
   "metadata": {},
   "outputs": [],
   "source": [
    "forest = RandomForestClassifier(n_estimators=best.n_estimators, max_depth=best.max_depth,\n",
    "                                criterion=best.criterion, min_samples_split=best.min_samples_split)"
   ]
  },
  {
   "cell_type": "code",
   "execution_count": 189,
   "id": "f51e5a82-26ca-4870-9420-4379d13dfdf0",
   "metadata": {},
   "outputs": [
    {
     "data": {
      "text/plain": [
       "RandomForestClassifier(criterion='entropy', min_samples_split=5,\n",
       "                       n_estimators=10000)"
      ]
     },
     "execution_count": 189,
     "metadata": {},
     "output_type": "execute_result"
    }
   ],
   "source": [
    "forest.fit(X_train_selected, y_train_selected)"
   ]
  },
  {
   "cell_type": "code",
   "execution_count": 191,
   "id": "da988125-33df-4518-83b8-d321eb0b61b7",
   "metadata": {},
   "outputs": [],
   "source": [
    "y_pred = forest.predict(X_test_selected)"
   ]
  },
  {
   "cell_type": "code",
   "execution_count": 193,
   "id": "d35dc3b9-6b0f-4d40-89b0-c8ad7eb88021",
   "metadata": {},
   "outputs": [
    {
     "data": {
      "text/plain": [
       "0.73"
      ]
     },
     "execution_count": 193,
     "metadata": {},
     "output_type": "execute_result"
    }
   ],
   "source": [
    "f1_rf_selected = round(f1_score(y_test_selected, y_pred, average='weighted'), 2)\n",
    "f1_rf_selected"
   ]
  },
  {
   "cell_type": "code",
   "execution_count": 194,
   "id": "e6419c2c-8d9c-4aa6-99ef-2dddf352e19c",
   "metadata": {},
   "outputs": [
    {
     "data": {
      "text/plain": [
       "0.73"
      ]
     },
     "execution_count": 194,
     "metadata": {},
     "output_type": "execute_result"
    }
   ],
   "source": [
    "acc_rf_selected = round(accuracy_score(y_test_selected, y_pred), 2)\n",
    "acc_rf_selected"
   ]
  },
  {
   "cell_type": "code",
   "execution_count": 195,
   "id": "41140949-6749-458b-8497-b4cc02867dd6",
   "metadata": {},
   "outputs": [
    {
     "name": "stdout",
     "output_type": "stream",
     "text": [
      "Random Forest after Feature Selection\n",
      "F1-score: 0.73\n",
      "Accuracy: 0.73\n"
     ]
    }
   ],
   "source": [
    "print('Random Forest after Feature Selection')\n",
    "print(f'F1-score: {f1_rf_selected}')\n",
    "print(f'Accuracy: {acc_rf_selected}')"
   ]
  }
 ],
 "metadata": {
  "kernelspec": {
   "display_name": "Python 3 (ipykernel)",
   "language": "python",
   "name": "python3"
  },
  "language_info": {
   "codemirror_mode": {
    "name": "ipython",
    "version": 3
   },
   "file_extension": ".py",
   "mimetype": "text/x-python",
   "name": "python",
   "nbconvert_exporter": "python",
   "pygments_lexer": "ipython3",
   "version": "3.9.13"
  }
 },
 "nbformat": 4,
 "nbformat_minor": 5
}
